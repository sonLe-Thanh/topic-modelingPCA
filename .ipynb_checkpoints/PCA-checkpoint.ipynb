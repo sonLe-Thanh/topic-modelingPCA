{
 "cells": [
  {
   "cell_type": "code",
   "execution_count": 245,
   "id": "772851a6",
   "metadata": {},
   "outputs": [],
   "source": [
    "import pandas as pd\n"
   ]
  },
  {
   "cell_type": "code",
   "execution_count": 246,
   "id": "f61545a2",
   "metadata": {},
   "outputs": [],
   "source": [
    "df = pd.read_excel(\"Data/CaseStudies.xlsx\")"
   ]
  },
  {
   "cell_type": "code",
   "execution_count": 247,
   "id": "4a1a033f",
   "metadata": {
    "scrolled": true
   },
   "outputs": [
    {
     "data": {
      "text/html": [
       "<div>\n",
       "<style scoped>\n",
       "    .dataframe tbody tr th:only-of-type {\n",
       "        vertical-align: middle;\n",
       "    }\n",
       "\n",
       "    .dataframe tbody tr th {\n",
       "        vertical-align: top;\n",
       "    }\n",
       "\n",
       "    .dataframe thead th {\n",
       "        text-align: right;\n",
       "    }\n",
       "</style>\n",
       "<table border=\"1\" class=\"dataframe\">\n",
       "  <thead>\n",
       "    <tr style=\"text-align: right;\">\n",
       "      <th></th>\n",
       "      <th>Case Study Id</th>\n",
       "      <th>Institution</th>\n",
       "      <th>Unit of Assessment</th>\n",
       "      <th>Title</th>\n",
       "      <th>Summary of the impact</th>\n",
       "      <th>Underpinning research</th>\n",
       "      <th>References to the research</th>\n",
       "      <th>Details of the impact</th>\n",
       "      <th>Sources to corroborate the impact</th>\n",
       "    </tr>\n",
       "  </thead>\n",
       "  <tbody>\n",
       "    <tr>\n",
       "      <th>0</th>\n",
       "      <td>27</td>\n",
       "      <td>\\nUniversity of East Anglia\\n</td>\n",
       "      <td>History</td>\n",
       "      <td>\\nMagna Carta\\n</td>\n",
       "      <td>\\nMagna Carta is the most famous document in E...</td>\n",
       "      <td>\\nIn the two centuries since the publication o...</td>\n",
       "      <td>\\nKey Outputs:\\n\\n- Nicholas Vincent, `Who's W...</td>\n",
       "      <td>\\nThe Process and Beneficiaries:\\nFrom work in...</td>\n",
       "      <td>\\nOrganisations: David Redden, Vice President ...</td>\n",
       "    </tr>\n",
       "    <tr>\n",
       "      <th>1</th>\n",
       "      <td>28</td>\n",
       "      <td>\\nUniversity of East Anglia\\n</td>\n",
       "      <td>History</td>\n",
       "      <td>\\nThe `Walberswick Project': Coastal Defence o...</td>\n",
       "      <td>\\nBuilding on the academic research of staff a...</td>\n",
       "      <td>\\nThe Suffolk Coasts and Heaths, a region know...</td>\n",
       "      <td>\\n\\nR. Liddiard, `Landscapes of Lordship': the...</td>\n",
       "      <td>\\nLiddiard and Sims' research on Britain's ant...</td>\n",
       "      <td>\\nTestimonials:\\n\\nSenior Reserve Manager, Wal...</td>\n",
       "    </tr>\n",
       "    <tr>\n",
       "      <th>2</th>\n",
       "      <td>29</td>\n",
       "      <td>\\nUniversity of East Anglia\\n</td>\n",
       "      <td>History</td>\n",
       "      <td>\\nThe Norfolk Medieval Stained Glass Project\\n</td>\n",
       "      <td>\\nOutstanding both for its quality and quantit...</td>\n",
       "      <td>\\nAn interest in the material culture of the l...</td>\n",
       "      <td>\\n\\nDavid King, `Glass-Painting', in Carole Ra...</td>\n",
       "      <td>\\nThe Process:\\nThe project began by photograp...</td>\n",
       "      <td>\\n\\nThe main CVMA website: www.cvma.ac.uk\\n\\nT...</td>\n",
       "    </tr>\n",
       "    <tr>\n",
       "      <th>3</th>\n",
       "      <td>30</td>\n",
       "      <td>\\nUniversity of East Anglia\\n</td>\n",
       "      <td>History</td>\n",
       "      <td>\\nThe Great Hospital Online\\n</td>\n",
       "      <td>\\nDrawing upon her monograph and other (Wellco...</td>\n",
       "      <td>\\nIn 1992 the Wellcome Trust awarded Rawcliffe...</td>\n",
       "      <td>\\nKey Outputs:\\n\\nCarole Rawcliffe, The Hospit...</td>\n",
       "      <td>\\nThe Process:\\nRawcliffe, the Hospital Truste...</td>\n",
       "      <td>\\nThe website: www.thegreathospital.co.uk\\nAHR...</td>\n",
       "    </tr>\n",
       "    <tr>\n",
       "      <th>4</th>\n",
       "      <td>56</td>\n",
       "      <td>\\nUniversity of Ulster\\n</td>\n",
       "      <td>Architecture, Built Environment and Planning</td>\n",
       "      <td>\\nApplying solar energy research to the winema...</td>\n",
       "      <td>\\nThis case study concerns the long term (ener...</td>\n",
       "      <td>\\nResearch into solar energy has been a core t...</td>\n",
       "      <td>\\nThe quality of the underpinning research is ...</td>\n",
       "      <td>\\nThe underpinning research in solar energy an...</td>\n",
       "      <td>\\nThe scope of the impacts arising from the ca...</td>\n",
       "    </tr>\n",
       "    <tr>\n",
       "      <th>...</th>\n",
       "      <td>...</td>\n",
       "      <td>...</td>\n",
       "      <td>...</td>\n",
       "      <td>...</td>\n",
       "      <td>...</td>\n",
       "      <td>...</td>\n",
       "      <td>...</td>\n",
       "      <td>...</td>\n",
       "      <td>...</td>\n",
       "    </tr>\n",
       "    <tr>\n",
       "      <th>6632</th>\n",
       "      <td>44647</td>\n",
       "      <td>\\n    Falmouth University\\n</td>\n",
       "      <td>Art and Design: History, Practice and Theory</td>\n",
       "      <td>\\n    The Art of Sustainability: the impact of...</td>\n",
       "      <td>\\n    Falmouth University's RANE (Research in ...</td>\n",
       "      <td>\\n    The RANE Group examines the relationship...</td>\n",
       "      <td>\\n    Dialogues with Nature &amp;#8212; this was a...</td>\n",
       "      <td>\\n    Cultural barriers exist between public a...</td>\n",
       "      <td>\\n    In 2011 the RANE-char project was shortl...</td>\n",
       "    </tr>\n",
       "    <tr>\n",
       "      <th>6633</th>\n",
       "      <td>44648</td>\n",
       "      <td>\\nUniversity of Abertay Dundee\\n</td>\n",
       "      <td>Sociology</td>\n",
       "      <td>\\nCountering the Culture of Fear\\n</td>\n",
       "      <td>\\nThis case study describes Waiton's research ...</td>\n",
       "      <td>\\nWaiton's research focuses on so-called `mora...</td>\n",
       "      <td>\\n\\n&amp;#8226; 2008: Waiton, S. The Politics of A...</td>\n",
       "      <td>\\nWaiton's body of work has had a direct impac...</td>\n",
       "      <td>\\nMedia appearances including news and current...</td>\n",
       "    </tr>\n",
       "    <tr>\n",
       "      <th>6634</th>\n",
       "      <td>44649</td>\n",
       "      <td>\\n    Royal Academy of Music\\n</td>\n",
       "      <td>Music, Drama, Dance and Performing Arts</td>\n",
       "      <td>\\n    Only Connect: Research and Performance i...</td>\n",
       "      <td>\\n    Peter Sheppard Skaerved's research focus...</td>\n",
       "      <td>\\n    As the Museum Fellow at the Royal Academ...</td>\n",
       "      <td>\\n    Underpinning research outputs include:\\n...</td>\n",
       "      <td>\\n    The dissemination of research findings t...</td>\n",
       "      <td>\\n    http://www.npg.org.uk/about/press/only-c...</td>\n",
       "    </tr>\n",
       "    <tr>\n",
       "      <th>6635</th>\n",
       "      <td>44650</td>\n",
       "      <td>\\n    Royal Academy of Music\\n</td>\n",
       "      <td>Music, Drama, Dance and Performing Arts</td>\n",
       "      <td>\\n    Public Understanding of Jazz and Popular...</td>\n",
       "      <td>\\n    Dr Alyn Shipton's research focuses on ja...</td>\n",
       "      <td>\\n    Shipton's work on jazz history, oral his...</td>\n",
       "      <td>\\n    Authored books:\\n    \\nI Feel a Song Com...</td>\n",
       "      <td>\\n    Shipton's research on twentieth-century ...</td>\n",
       "      <td>\\n    McHugh:\\n    CEO of the McHugh Music Pub...</td>\n",
       "    </tr>\n",
       "    <tr>\n",
       "      <th>6636</th>\n",
       "      <td>44651</td>\n",
       "      <td>\\n    University of Brighton\\n</td>\n",
       "      <td>Communication, Cultural and Media Studies, Lib...</td>\n",
       "      <td>\\n    Community Engagement: ICTs and Empowerme...</td>\n",
       "      <td>\\n    This impact case study focuses on the ef...</td>\n",
       "      <td>\\n    User needs have been a major concern of ...</td>\n",
       "      <td>\\n    \\n[3.1] GILL, K. S. (1996) `The Foundati...</td>\n",
       "      <td>\\n    An impact of this research has been to e...</td>\n",
       "      <td>\\n    5.1 IT Skills 4 rural Kenya. Available a...</td>\n",
       "    </tr>\n",
       "  </tbody>\n",
       "</table>\n",
       "<p>6637 rows × 9 columns</p>\n",
       "</div>"
      ],
      "text/plain": [
       "      Case Study Id                         Institution  \\\n",
       "0                27       \\nUniversity of East Anglia\\n   \n",
       "1                28       \\nUniversity of East Anglia\\n   \n",
       "2                29       \\nUniversity of East Anglia\\n   \n",
       "3                30       \\nUniversity of East Anglia\\n   \n",
       "4                56            \\nUniversity of Ulster\\n   \n",
       "...             ...                                 ...   \n",
       "6632          44647     \\n    Falmouth University\\n       \n",
       "6633          44648    \\nUniversity of Abertay Dundee\\n   \n",
       "6634          44649  \\n    Royal Academy of Music\\n       \n",
       "6635          44650  \\n    Royal Academy of Music\\n       \n",
       "6636          44651  \\n    University of Brighton\\n       \n",
       "\n",
       "                                     Unit of Assessment  \\\n",
       "0                                               History   \n",
       "1                                               History   \n",
       "2                                               History   \n",
       "3                                               History   \n",
       "4          Architecture, Built Environment and Planning   \n",
       "...                                                 ...   \n",
       "6632       Art and Design: History, Practice and Theory   \n",
       "6633                                          Sociology   \n",
       "6634            Music, Drama, Dance and Performing Arts   \n",
       "6635            Music, Drama, Dance and Performing Arts   \n",
       "6636  Communication, Cultural and Media Studies, Lib...   \n",
       "\n",
       "                                                  Title  \\\n",
       "0                                       \\nMagna Carta\\n   \n",
       "1     \\nThe `Walberswick Project': Coastal Defence o...   \n",
       "2        \\nThe Norfolk Medieval Stained Glass Project\\n   \n",
       "3                         \\nThe Great Hospital Online\\n   \n",
       "4     \\nApplying solar energy research to the winema...   \n",
       "...                                                 ...   \n",
       "6632  \\n    The Art of Sustainability: the impact of...   \n",
       "6633                 \\nCountering the Culture of Fear\\n   \n",
       "6634  \\n    Only Connect: Research and Performance i...   \n",
       "6635  \\n    Public Understanding of Jazz and Popular...   \n",
       "6636  \\n    Community Engagement: ICTs and Empowerme...   \n",
       "\n",
       "                                  Summary of the impact  \\\n",
       "0     \\nMagna Carta is the most famous document in E...   \n",
       "1     \\nBuilding on the academic research of staff a...   \n",
       "2     \\nOutstanding both for its quality and quantit...   \n",
       "3     \\nDrawing upon her monograph and other (Wellco...   \n",
       "4     \\nThis case study concerns the long term (ener...   \n",
       "...                                                 ...   \n",
       "6632  \\n    Falmouth University's RANE (Research in ...   \n",
       "6633  \\nThis case study describes Waiton's research ...   \n",
       "6634  \\n    Peter Sheppard Skaerved's research focus...   \n",
       "6635  \\n    Dr Alyn Shipton's research focuses on ja...   \n",
       "6636  \\n    This impact case study focuses on the ef...   \n",
       "\n",
       "                                  Underpinning research  \\\n",
       "0     \\nIn the two centuries since the publication o...   \n",
       "1     \\nThe Suffolk Coasts and Heaths, a region know...   \n",
       "2     \\nAn interest in the material culture of the l...   \n",
       "3     \\nIn 1992 the Wellcome Trust awarded Rawcliffe...   \n",
       "4     \\nResearch into solar energy has been a core t...   \n",
       "...                                                 ...   \n",
       "6632  \\n    The RANE Group examines the relationship...   \n",
       "6633  \\nWaiton's research focuses on so-called `mora...   \n",
       "6634  \\n    As the Museum Fellow at the Royal Academ...   \n",
       "6635  \\n    Shipton's work on jazz history, oral his...   \n",
       "6636  \\n    User needs have been a major concern of ...   \n",
       "\n",
       "                             References to the research  \\\n",
       "0     \\nKey Outputs:\\n\\n- Nicholas Vincent, `Who's W...   \n",
       "1     \\n\\nR. Liddiard, `Landscapes of Lordship': the...   \n",
       "2     \\n\\nDavid King, `Glass-Painting', in Carole Ra...   \n",
       "3     \\nKey Outputs:\\n\\nCarole Rawcliffe, The Hospit...   \n",
       "4     \\nThe quality of the underpinning research is ...   \n",
       "...                                                 ...   \n",
       "6632  \\n    Dialogues with Nature &#8212; this was a...   \n",
       "6633  \\n\\n&#8226; 2008: Waiton, S. The Politics of A...   \n",
       "6634  \\n    Underpinning research outputs include:\\n...   \n",
       "6635  \\n    Authored books:\\n    \\nI Feel a Song Com...   \n",
       "6636  \\n    \\n[3.1] GILL, K. S. (1996) `The Foundati...   \n",
       "\n",
       "                                  Details of the impact  \\\n",
       "0     \\nThe Process and Beneficiaries:\\nFrom work in...   \n",
       "1     \\nLiddiard and Sims' research on Britain's ant...   \n",
       "2     \\nThe Process:\\nThe project began by photograp...   \n",
       "3     \\nThe Process:\\nRawcliffe, the Hospital Truste...   \n",
       "4     \\nThe underpinning research in solar energy an...   \n",
       "...                                                 ...   \n",
       "6632  \\n    Cultural barriers exist between public a...   \n",
       "6633  \\nWaiton's body of work has had a direct impac...   \n",
       "6634  \\n    The dissemination of research findings t...   \n",
       "6635  \\n    Shipton's research on twentieth-century ...   \n",
       "6636  \\n    An impact of this research has been to e...   \n",
       "\n",
       "                     Sources to corroborate the impact   \n",
       "0     \\nOrganisations: David Redden, Vice President ...  \n",
       "1     \\nTestimonials:\\n\\nSenior Reserve Manager, Wal...  \n",
       "2     \\n\\nThe main CVMA website: www.cvma.ac.uk\\n\\nT...  \n",
       "3     \\nThe website: www.thegreathospital.co.uk\\nAHR...  \n",
       "4     \\nThe scope of the impacts arising from the ca...  \n",
       "...                                                 ...  \n",
       "6632  \\n    In 2011 the RANE-char project was shortl...  \n",
       "6633  \\nMedia appearances including news and current...  \n",
       "6634  \\n    http://www.npg.org.uk/about/press/only-c...  \n",
       "6635  \\n    McHugh:\\n    CEO of the McHugh Music Pub...  \n",
       "6636  \\n    5.1 IT Skills 4 rural Kenya. Available a...  \n",
       "\n",
       "[6637 rows x 9 columns]"
      ]
     },
     "metadata": {},
     "output_type": "display_data"
    }
   ],
   "source": [
    "display(df)"
   ]
  },
  {
   "cell_type": "code",
   "execution_count": 248,
   "id": "7a1635f2",
   "metadata": {},
   "outputs": [],
   "source": [
    "features =['Summary of the impact']"
   ]
  },
  {
   "cell_type": "code",
   "execution_count": 249,
   "id": "bdf40d36",
   "metadata": {},
   "outputs": [],
   "source": [
    "x = df.loc[:, features]"
   ]
  },
  {
   "cell_type": "code",
   "execution_count": 250,
   "id": "6dac46f8",
   "metadata": {},
   "outputs": [],
   "source": [
    "x[\"Summary of the impact\"] = x[\"Summary of the impact\"].str.lower()"
   ]
  },
  {
   "cell_type": "code",
   "execution_count": 251,
   "id": "b35e3b52",
   "metadata": {},
   "outputs": [],
   "source": [
    "x[\"Summary of the impact\"] = x[\"Summary of the impact\"].str[1:-1]"
   ]
  },
  {
   "cell_type": "code",
   "execution_count": 252,
   "id": "7c5d259c",
   "metadata": {},
   "outputs": [],
   "source": [
    "from nltk.corpus import stopwords\n",
    "from nltk.stem import PorterStemmer\n",
    "from nltk.tokenize import word_tokenize\n",
    "import string"
   ]
  },
  {
   "cell_type": "code",
   "execution_count": 253,
   "id": "b9d43dac",
   "metadata": {},
   "outputs": [],
   "source": [
    "stop_words = set(stopwords.words('english'))\n",
    "ps = PorterStemmer()"
   ]
  },
  {
   "cell_type": "code",
   "execution_count": 254,
   "id": "c39daea6",
   "metadata": {},
   "outputs": [],
   "source": [
    "def remove_punctuation(sentence):\n",
    "    return sentence.translate(str.maketrans('','', string.punctuation))"
   ]
  },
  {
   "cell_type": "code",
   "execution_count": 255,
   "id": "895e5082",
   "metadata": {},
   "outputs": [],
   "source": [
    "def stemming(sentence, stemmer):\n",
    "    return_list = []\n",
    "    tokens = word_tokenize(sentence)\n",
    "    for token in tokens:\n",
    "        return_list.append(stemmer.stem(token))\n",
    "    return return_list"
   ]
  },
  {
   "cell_type": "code",
   "execution_count": 256,
   "id": "39f297e8",
   "metadata": {},
   "outputs": [],
   "source": [
    "x[\"Summary of the impact\"] = x.apply(lambda row: remove_punctuation(row[\"Summary of the impact\"]), axis=1)"
   ]
  },
  {
   "cell_type": "code",
   "execution_count": 257,
   "id": "30d14cae",
   "metadata": {},
   "outputs": [],
   "source": [
    "x[\"Summary of the impact\"] = x.apply(lambda row: stemming(row[\"Summary of the impact\"], ps), axis=1)"
   ]
  },
  {
   "cell_type": "code",
   "execution_count": 258,
   "id": "f08e9751",
   "metadata": {},
   "outputs": [],
   "source": [
    "def remove_stop_words(list_token, stop_words_set):\n",
    "    filtered_list = []\n",
    "    for token in list_token:\n",
    "        if token not in stop_words_set:\n",
    "            filtered_list.append(token)\n",
    "    return filtered_list"
   ]
  },
  {
   "cell_type": "code",
   "execution_count": 259,
   "id": "3b29ff51",
   "metadata": {},
   "outputs": [],
   "source": [
    "x[\"Summary of the impact\"] = x.apply(lambda row: remove_stop_words(row[\"Summary of the impact\"], stop_words), axis=1)"
   ]
  },
  {
   "cell_type": "code",
   "execution_count": 260,
   "id": "9234dd1f",
   "metadata": {},
   "outputs": [],
   "source": [
    "list_preprocessed = x.values.tolist()"
   ]
  },
  {
   "cell_type": "code",
   "execution_count": 261,
   "id": "aad79db7",
   "metadata": {},
   "outputs": [],
   "source": [
    "def flatten(t):\n",
    "    return [item for sublist in t for item in sublist]"
   ]
  },
  {
   "cell_type": "code",
   "execution_count": 262,
   "id": "9c90784f",
   "metadata": {},
   "outputs": [],
   "source": [
    "flatten_list= flatten(flatten(list_preprocessed))"
   ]
  },
  {
   "cell_type": "code",
   "execution_count": 263,
   "id": "3450a5a9",
   "metadata": {},
   "outputs": [
    {
     "name": "stdout",
     "output_type": "stream",
     "text": [
      "513397\n"
     ]
    }
   ],
   "source": [
    "print(len(flatten_list)) # Total words"
   ]
  },
  {
   "cell_type": "code",
   "execution_count": 264,
   "id": "3ff5f6bc",
   "metadata": {},
   "outputs": [],
   "source": [
    "unique_words = set(flatten_list)"
   ]
  },
  {
   "cell_type": "code",
   "execution_count": 265,
   "id": "c30ae879",
   "metadata": {},
   "outputs": [
    {
     "name": "stdout",
     "output_type": "stream",
     "text": [
      "26762\n"
     ]
    }
   ],
   "source": [
    "print(len(unique_words)) # No of unique words"
   ]
  },
  {
   "cell_type": "code",
   "execution_count": 266,
   "id": "394c889c",
   "metadata": {},
   "outputs": [],
   "source": [
    "def get_frequent_words(unique_words_list,word_list, threshold=100):\n",
    "    word_frequent = {}\n",
    "    for word in unique_words_list:\n",
    "        if word_list.count(word) >= threshold:\n",
    "            word_frequent[word] = word_list.count(word)\n",
    "    return word_frequent"
   ]
  },
  {
   "cell_type": "code",
   "execution_count": 267,
   "id": "b5e2646d",
   "metadata": {},
   "outputs": [],
   "source": [
    "processed_info = get_frequent_words(unique_words, flatten_list)"
   ]
  },
  {
   "cell_type": "code",
   "execution_count": 269,
   "id": "1c08930f",
   "metadata": {},
   "outputs": [
    {
     "name": "stdout",
     "output_type": "stream",
     "text": [
      "895\n"
     ]
    }
   ],
   "source": [
    "print(len(processed_info))"
   ]
  },
  {
   "cell_type": "code",
   "execution_count": 270,
   "id": "4a7cd3aa",
   "metadata": {},
   "outputs": [
    {
     "name": "stdout",
     "output_type": "stream",
     "text": [
      "368086\n"
     ]
    }
   ],
   "source": [
    "sum =0\n",
    "for key,val in processed_info.items():\n",
    "    sum +=val\n",
    "print(sum)"
   ]
  },
  {
   "cell_type": "code",
   "execution_count": 271,
   "id": "4c45a570",
   "metadata": {},
   "outputs": [
    {
     "name": "stdout",
     "output_type": "stream",
     "text": [
      "0.7169617274740601\n"
     ]
    }
   ],
   "source": [
    "print(sum/len(flatten_list))"
   ]
  },
  {
   "cell_type": "code",
   "execution_count": 272,
   "id": "716171e7",
   "metadata": {},
   "outputs": [],
   "source": [
    "new_df = pd.DataFrame(columns = list(processed_info))"
   ]
  },
  {
   "cell_type": "code",
   "execution_count": 273,
   "id": "cdd91b76",
   "metadata": {},
   "outputs": [],
   "source": [
    "def row_bag_of_words(rows, list_unique_words):\n",
    "    return_dict = {}\n",
    "    for word in rows:\n",
    "        if word in list_unique_words:\n",
    "            if word in return_dict:\n",
    "                return_dict[word] +=1\n",
    "            else:\n",
    "                return_dict[word] =1\n",
    "    return return_dict"
   ]
  },
  {
   "cell_type": "code",
   "execution_count": 274,
   "id": "b5defa24",
   "metadata": {
    "scrolled": true
   },
   "outputs": [],
   "source": [
    "for index, row in x.iterrows():\n",
    "#     print(row[\"Summary of the impact\"])\n",
    "    new_df = new_df.append(row_bag_of_words(row[\"Summary of the impact\"], list(processed_info)), ignore_index = True)"
   ]
  },
  {
   "cell_type": "code",
   "execution_count": 275,
   "id": "5c5fc8bc",
   "metadata": {},
   "outputs": [],
   "source": [
    "new_df = new_df.fillna(0)"
   ]
  },
  {
   "cell_type": "code",
   "execution_count": 276,
   "id": "082c9c6f",
   "metadata": {},
   "outputs": [],
   "source": [
    "from sklearn.datasets import load_iris\n",
    "from factor_analyzer import FactorAnalyzer\n",
    "import matplotlib.pyplot as plt"
   ]
  },
  {
   "cell_type": "code",
   "execution_count": 277,
   "id": "a785b158",
   "metadata": {},
   "outputs": [
    {
     "name": "stdout",
     "output_type": "stream",
     "text": [
      "<class 'pandas.core.frame.DataFrame'>\n",
      "RangeIndex: 6637 entries, 0 to 6636\n",
      "Columns: 895 entries, exist to assist\n",
      "dtypes: float64(895)\n",
      "memory usage: 45.3 MB\n"
     ]
    }
   ],
   "source": [
    "new_df.info()"
   ]
  },
  {
   "cell_type": "code",
   "execution_count": 278,
   "id": "b66e86c0",
   "metadata": {},
   "outputs": [
    {
     "data": {
      "text/html": [
       "<div>\n",
       "<style scoped>\n",
       "    .dataframe tbody tr th:only-of-type {\n",
       "        vertical-align: middle;\n",
       "    }\n",
       "\n",
       "    .dataframe tbody tr th {\n",
       "        vertical-align: top;\n",
       "    }\n",
       "\n",
       "    .dataframe thead th {\n",
       "        text-align: right;\n",
       "    }\n",
       "</style>\n",
       "<table border=\"1\" class=\"dataframe\">\n",
       "  <thead>\n",
       "    <tr style=\"text-align: right;\">\n",
       "      <th></th>\n",
       "      <th>exist</th>\n",
       "      <th>treat</th>\n",
       "      <th>tv</th>\n",
       "      <th>recognit</th>\n",
       "      <th>surviv</th>\n",
       "      <th>poverti</th>\n",
       "      <th>produc</th>\n",
       "      <th>militari</th>\n",
       "      <th>object</th>\n",
       "      <th>recent</th>\n",
       "      <th>...</th>\n",
       "      <th>test</th>\n",
       "      <th>bbc</th>\n",
       "      <th>term</th>\n",
       "      <th>open</th>\n",
       "      <th>inform</th>\n",
       "      <th>often</th>\n",
       "      <th>influenti</th>\n",
       "      <th>behaviour</th>\n",
       "      <th>transfer</th>\n",
       "      <th>assist</th>\n",
       "    </tr>\n",
       "  </thead>\n",
       "  <tbody>\n",
       "    <tr>\n",
       "      <th>0</th>\n",
       "      <td>0.0</td>\n",
       "      <td>0.0</td>\n",
       "      <td>0.0</td>\n",
       "      <td>0.0</td>\n",
       "      <td>0.0</td>\n",
       "      <td>0.0</td>\n",
       "      <td>0.0</td>\n",
       "      <td>0.0</td>\n",
       "      <td>0.0</td>\n",
       "      <td>0.0</td>\n",
       "      <td>...</td>\n",
       "      <td>0.0</td>\n",
       "      <td>0.0</td>\n",
       "      <td>0.0</td>\n",
       "      <td>0.0</td>\n",
       "      <td>0.0</td>\n",
       "      <td>0.0</td>\n",
       "      <td>0.0</td>\n",
       "      <td>0.0</td>\n",
       "      <td>0.0</td>\n",
       "      <td>0.0</td>\n",
       "    </tr>\n",
       "    <tr>\n",
       "      <th>1</th>\n",
       "      <td>0.0</td>\n",
       "      <td>0.0</td>\n",
       "      <td>0.0</td>\n",
       "      <td>0.0</td>\n",
       "      <td>0.0</td>\n",
       "      <td>0.0</td>\n",
       "      <td>0.0</td>\n",
       "      <td>0.0</td>\n",
       "      <td>0.0</td>\n",
       "      <td>0.0</td>\n",
       "      <td>...</td>\n",
       "      <td>0.0</td>\n",
       "      <td>0.0</td>\n",
       "      <td>0.0</td>\n",
       "      <td>0.0</td>\n",
       "      <td>0.0</td>\n",
       "      <td>0.0</td>\n",
       "      <td>0.0</td>\n",
       "      <td>0.0</td>\n",
       "      <td>0.0</td>\n",
       "      <td>0.0</td>\n",
       "    </tr>\n",
       "    <tr>\n",
       "      <th>2</th>\n",
       "      <td>0.0</td>\n",
       "      <td>0.0</td>\n",
       "      <td>0.0</td>\n",
       "      <td>0.0</td>\n",
       "      <td>1.0</td>\n",
       "      <td>0.0</td>\n",
       "      <td>0.0</td>\n",
       "      <td>0.0</td>\n",
       "      <td>0.0</td>\n",
       "      <td>0.0</td>\n",
       "      <td>...</td>\n",
       "      <td>0.0</td>\n",
       "      <td>0.0</td>\n",
       "      <td>0.0</td>\n",
       "      <td>0.0</td>\n",
       "      <td>0.0</td>\n",
       "      <td>0.0</td>\n",
       "      <td>0.0</td>\n",
       "      <td>0.0</td>\n",
       "      <td>0.0</td>\n",
       "      <td>0.0</td>\n",
       "    </tr>\n",
       "    <tr>\n",
       "      <th>3</th>\n",
       "      <td>0.0</td>\n",
       "      <td>0.0</td>\n",
       "      <td>0.0</td>\n",
       "      <td>1.0</td>\n",
       "      <td>1.0</td>\n",
       "      <td>0.0</td>\n",
       "      <td>0.0</td>\n",
       "      <td>0.0</td>\n",
       "      <td>0.0</td>\n",
       "      <td>0.0</td>\n",
       "      <td>...</td>\n",
       "      <td>0.0</td>\n",
       "      <td>0.0</td>\n",
       "      <td>0.0</td>\n",
       "      <td>0.0</td>\n",
       "      <td>1.0</td>\n",
       "      <td>0.0</td>\n",
       "      <td>0.0</td>\n",
       "      <td>0.0</td>\n",
       "      <td>0.0</td>\n",
       "      <td>0.0</td>\n",
       "    </tr>\n",
       "    <tr>\n",
       "      <th>4</th>\n",
       "      <td>0.0</td>\n",
       "      <td>0.0</td>\n",
       "      <td>0.0</td>\n",
       "      <td>0.0</td>\n",
       "      <td>0.0</td>\n",
       "      <td>0.0</td>\n",
       "      <td>0.0</td>\n",
       "      <td>0.0</td>\n",
       "      <td>0.0</td>\n",
       "      <td>0.0</td>\n",
       "      <td>...</td>\n",
       "      <td>0.0</td>\n",
       "      <td>0.0</td>\n",
       "      <td>1.0</td>\n",
       "      <td>0.0</td>\n",
       "      <td>1.0</td>\n",
       "      <td>0.0</td>\n",
       "      <td>0.0</td>\n",
       "      <td>0.0</td>\n",
       "      <td>0.0</td>\n",
       "      <td>0.0</td>\n",
       "    </tr>\n",
       "  </tbody>\n",
       "</table>\n",
       "<p>5 rows × 895 columns</p>\n",
       "</div>"
      ],
      "text/plain": [
       "   exist  treat   tv  recognit  surviv  poverti  produc  militari  object  \\\n",
       "0    0.0    0.0  0.0       0.0     0.0      0.0     0.0       0.0     0.0   \n",
       "1    0.0    0.0  0.0       0.0     0.0      0.0     0.0       0.0     0.0   \n",
       "2    0.0    0.0  0.0       0.0     1.0      0.0     0.0       0.0     0.0   \n",
       "3    0.0    0.0  0.0       1.0     1.0      0.0     0.0       0.0     0.0   \n",
       "4    0.0    0.0  0.0       0.0     0.0      0.0     0.0       0.0     0.0   \n",
       "\n",
       "   recent  ...  test  bbc  term  open  inform  often  influenti  behaviour  \\\n",
       "0     0.0  ...   0.0  0.0   0.0   0.0     0.0    0.0        0.0        0.0   \n",
       "1     0.0  ...   0.0  0.0   0.0   0.0     0.0    0.0        0.0        0.0   \n",
       "2     0.0  ...   0.0  0.0   0.0   0.0     0.0    0.0        0.0        0.0   \n",
       "3     0.0  ...   0.0  0.0   0.0   0.0     1.0    0.0        0.0        0.0   \n",
       "4     0.0  ...   0.0  0.0   1.0   0.0     1.0    0.0        0.0        0.0   \n",
       "\n",
       "   transfer  assist  \n",
       "0       0.0     0.0  \n",
       "1       0.0     0.0  \n",
       "2       0.0     0.0  \n",
       "3       0.0     0.0  \n",
       "4       0.0     0.0  \n",
       "\n",
       "[5 rows x 895 columns]"
      ]
     },
     "execution_count": 278,
     "metadata": {},
     "output_type": "execute_result"
    }
   ],
   "source": [
    "new_df.head()"
   ]
  },
  {
   "cell_type": "code",
   "execution_count": 279,
   "id": "6492f724",
   "metadata": {},
   "outputs": [],
   "source": [
    "from factor_analyzer.factor_analyzer import calculate_bartlett_sphericity\n",
    "chi_square_value,p_value=calculate_bartlett_sphericity(new_df)"
   ]
  },
  {
   "cell_type": "code",
   "execution_count": 280,
   "id": "3b204fb0",
   "metadata": {},
   "outputs": [
    {
     "data": {
      "text/plain": [
       "(823633.0698768944, 0.0)"
      ]
     },
     "execution_count": 280,
     "metadata": {},
     "output_type": "execute_result"
    }
   ],
   "source": [
    "chi_square_value, p_value"
   ]
  },
  {
   "cell_type": "code",
   "execution_count": 281,
   "id": "647d0a94",
   "metadata": {},
   "outputs": [
    {
     "name": "stderr",
     "output_type": "stream",
     "text": [
      "/Users/thanhson/PycharmProjects/Venv/venv/lib/python3.8/site-packages/factor_analyzer/utils.py:249: UserWarning: The inverse of the variance-covariance matrix was calculated using the Moore-Penrose generalized matrix inversion, due to its determinant being at or very close to zero.\n",
      "  warnings.warn('The inverse of the variance-covariance matrix '\n"
     ]
    }
   ],
   "source": [
    "from factor_analyzer.factor_analyzer import calculate_kmo\n",
    "kmo_all,kmo_model=calculate_kmo(new_df)"
   ]
  },
  {
   "cell_type": "code",
   "execution_count": 282,
   "id": "71102b50",
   "metadata": {},
   "outputs": [
    {
     "data": {
      "text/plain": [
       "0.6393122595217845"
      ]
     },
     "execution_count": 282,
     "metadata": {},
     "output_type": "execute_result"
    }
   ],
   "source": [
    "kmo_model"
   ]
  },
  {
   "cell_type": "code",
   "execution_count": 283,
   "id": "43fcb5ae",
   "metadata": {},
   "outputs": [],
   "source": [
    "fa = FactorAnalyzer(rotation = None,impute = \"drop\",n_factors=new_df.shape[1])"
   ]
  },
  {
   "cell_type": "code",
   "execution_count": 284,
   "id": "803ef103",
   "metadata": {},
   "outputs": [
    {
     "data": {
      "text/plain": [
       "FactorAnalyzer(impute='drop', n_factors=895, rotation=None, rotation_kwargs={})"
      ]
     },
     "execution_count": 284,
     "metadata": {},
     "output_type": "execute_result"
    }
   ],
   "source": [
    "fa.fit(new_df)"
   ]
  },
  {
   "cell_type": "code",
   "execution_count": 285,
   "id": "8d3c8b14",
   "metadata": {},
   "outputs": [
    {
     "data": {
      "text/plain": [
       "array([9.41830509, 6.83238097, 5.83959556, 4.4262866 , 3.92008692,\n",
       "       3.64313076, 3.42495929, 3.31275634, 3.14053138, 3.03442977,\n",
       "       2.85027467, 2.81029177, 2.71490488, 2.66729087, 2.62393297,\n",
       "       2.60880937, 2.58764709, 2.49676655, 2.43531228, 2.39004181,\n",
       "       2.37928363, 2.33505972, 2.31808038, 2.29878208, 2.27498453,\n",
       "       2.23628836, 2.20779823, 2.19641637, 2.18318789, 2.13674442,\n",
       "       2.12879981, 2.12252972, 2.0934079 , 2.0854682 , 2.08329327,\n",
       "       2.07174375, 2.04607637, 2.03881543, 2.01711036, 2.00871219,\n",
       "       1.99997459, 1.99687662, 1.98338449, 1.97438468, 1.96426727,\n",
       "       1.95528709, 1.93370663, 1.9231561 , 1.91404214, 1.90928093,\n",
       "       1.90275064, 1.87926797, 1.87223965, 1.86861208, 1.85264019,\n",
       "       1.84854377, 1.84605411, 1.83614165, 1.82820124, 1.81775814,\n",
       "       1.8124933 , 1.80790987, 1.79934268, 1.79591148, 1.78887642,\n",
       "       1.78412493, 1.77241035, 1.77132075, 1.76447151, 1.75434863,\n",
       "       1.74834238, 1.74270572, 1.73797769, 1.73072878, 1.72222235,\n",
       "       1.71875294, 1.71226722, 1.70948869, 1.70538439, 1.69579788,\n",
       "       1.691937  , 1.6870471 , 1.68646017, 1.68263202, 1.67574928,\n",
       "       1.67039833, 1.66903005, 1.66376077, 1.65725801, 1.65543589,\n",
       "       1.64929715, 1.64145911, 1.64047669, 1.63426707, 1.63187026,\n",
       "       1.62732203, 1.62293943, 1.61510569, 1.61467999, 1.61159966,\n",
       "       1.60123861, 1.59725276, 1.59384458, 1.58939631, 1.58616135,\n",
       "       1.5858347 , 1.58106015, 1.57824382, 1.57530461, 1.56934306,\n",
       "       1.56261313, 1.55890409, 1.55639966, 1.54908893, 1.54827502,\n",
       "       1.54257154, 1.54028244, 1.53448905, 1.53172239, 1.53102823,\n",
       "       1.52850662, 1.5241264 , 1.52206401, 1.51885495, 1.51411091,\n",
       "       1.51006589, 1.50814386, 1.5064398 , 1.50226439, 1.49493444,\n",
       "       1.49466936, 1.49106706, 1.48986597, 1.48872214, 1.48296989,\n",
       "       1.47855899, 1.47494918, 1.470061  , 1.46831748, 1.4649559 ,\n",
       "       1.4617123 , 1.45767943, 1.45595108, 1.45366749, 1.45263281,\n",
       "       1.44904495, 1.44578333, 1.4412662 , 1.43725987, 1.43206491,\n",
       "       1.43148562, 1.42897273, 1.42649737, 1.42457805, 1.42234354,\n",
       "       1.42187867, 1.41683071, 1.41468776, 1.41336648, 1.40918499,\n",
       "       1.40766979, 1.40468855, 1.40106938, 1.39664776, 1.39348685,\n",
       "       1.3916494 , 1.38819517, 1.38701249, 1.38298806, 1.38232895,\n",
       "       1.3743502 , 1.3711122 , 1.37011686, 1.36626206, 1.36310568,\n",
       "       1.36201953, 1.35952885, 1.35901611, 1.3554504 , 1.3529181 ,\n",
       "       1.34848364, 1.34817088, 1.34706398, 1.34100372, 1.34041376,\n",
       "       1.33683944, 1.33506386, 1.33192083, 1.33050818, 1.32680761,\n",
       "       1.32458828, 1.32432241, 1.32287601, 1.32103639, 1.31597554,\n",
       "       1.31231379, 1.30966554, 1.30901556, 1.30788403, 1.30545221,\n",
       "       1.30286534, 1.29813603, 1.29780794, 1.29428586, 1.2921803 ,\n",
       "       1.29080826, 1.28962339, 1.28787336, 1.28422019, 1.28340959,\n",
       "       1.27989966, 1.27777873, 1.27561356, 1.2724772 , 1.2722822 ,\n",
       "       1.270994  , 1.26817708, 1.26689617, 1.26495333, 1.26101923,\n",
       "       1.25835524, 1.25732128, 1.25307996, 1.2519721 , 1.251075  ,\n",
       "       1.2494371 , 1.24535158, 1.24049148, 1.23879994, 1.23666135,\n",
       "       1.23517939, 1.23341531, 1.22953769, 1.228561  , 1.22756131,\n",
       "       1.22598538, 1.224243  , 1.22296885, 1.22010106, 1.2189048 ,\n",
       "       1.21646798, 1.2158335 , 1.21323513, 1.21046486, 1.20735144,\n",
       "       1.20520929, 1.20215302, 1.20063889, 1.19931517, 1.19810896,\n",
       "       1.1954557 , 1.19295373, 1.19119505, 1.18886034, 1.1865053 ,\n",
       "       1.1853706 , 1.18173651, 1.18039562, 1.17897402, 1.17792423,\n",
       "       1.17580988, 1.17350915, 1.17123277, 1.16980274, 1.16833596,\n",
       "       1.16607243, 1.1643579 , 1.16128067, 1.15962297, 1.15927556,\n",
       "       1.15680605, 1.15544554, 1.15497018, 1.15264759, 1.14980017,\n",
       "       1.1473679 , 1.14652683, 1.14338174, 1.14200772, 1.13941785,\n",
       "       1.13613567, 1.13388312, 1.13193159, 1.12966593, 1.12927339,\n",
       "       1.12758342, 1.12565689, 1.12288803, 1.12184974, 1.12024799,\n",
       "       1.11810391, 1.11655972, 1.11428483, 1.11371896, 1.11230606,\n",
       "       1.11026517, 1.10955222, 1.10524179, 1.10263059, 1.10077222,\n",
       "       1.09997528, 1.09696482, 1.09628799, 1.09300894, 1.09039805,\n",
       "       1.08989435, 1.08774122, 1.08615393, 1.08523634, 1.08168885,\n",
       "       1.08144401, 1.07941033, 1.07878128, 1.07802875, 1.07556975,\n",
       "       1.07420819, 1.07406351, 1.07253252, 1.07076819, 1.06847959,\n",
       "       1.06600092, 1.06360597, 1.06311897, 1.06210548, 1.06070677,\n",
       "       1.0579354 , 1.05773343, 1.0546588 , 1.05301474, 1.05197937,\n",
       "       1.04979562, 1.04944765, 1.04647127, 1.04428333, 1.04240647,\n",
       "       1.04064487, 1.03897979, 1.03784429, 1.03557007, 1.03485608,\n",
       "       1.03223668, 1.03098587, 1.02969057, 1.02746029, 1.02660878,\n",
       "       1.02524834, 1.02263521, 1.02132093, 1.01988533, 1.01716364,\n",
       "       1.01392522, 1.01255277, 1.01240472, 1.01185401, 1.00907633,\n",
       "       1.00655718, 1.00612512, 1.00410676, 1.00321225, 1.00001314,\n",
       "       0.9984002 , 0.99710367, 0.99499594, 0.99394666, 0.99303121,\n",
       "       0.99113784, 0.98923041, 0.98774291, 0.98703198, 0.98507823,\n",
       "       0.98352946, 0.98156662, 0.98065324, 0.97947019, 0.97514233,\n",
       "       0.97377394, 0.97245478, 0.96961941, 0.96831984, 0.9679583 ,\n",
       "       0.96729435, 0.96635222, 0.96496331, 0.96218414, 0.96179265,\n",
       "       0.96096521, 0.95890098, 0.9584759 , 0.95663726, 0.95410355,\n",
       "       0.95223283, 0.95147865, 0.94990122, 0.94862757, 0.94590954,\n",
       "       0.94498932, 0.94450888, 0.94337175, 0.94173521, 0.93867916,\n",
       "       0.93805598, 0.93574697, 0.93384568, 0.93242979, 0.93126438,\n",
       "       0.93041139, 0.92869889, 0.92847609, 0.92676984, 0.92564988,\n",
       "       0.92287872, 0.92010366, 0.92007081, 0.9187042 , 0.91811562,\n",
       "       0.9166625 , 0.91439086, 0.91260074, 0.91129894, 0.91053809,\n",
       "       0.90908455, 0.9070529 , 0.90568839, 0.90418258, 0.90326884,\n",
       "       0.90111708, 0.90084897, 0.89992736, 0.89967646, 0.89695418,\n",
       "       0.89589073, 0.89256697, 0.89221717, 0.88902655, 0.88849353,\n",
       "       0.88781629, 0.88628469, 0.8854404 , 0.88350059, 0.88290567,\n",
       "       0.88033165, 0.87868114, 0.87787996, 0.87685996, 0.8737974 ,\n",
       "       0.87363867, 0.87300484, 0.87148181, 0.86839266, 0.86775881,\n",
       "       0.86566055, 0.86478457, 0.86389727, 0.86245232, 0.85898411,\n",
       "       0.85775626, 0.85615822, 0.8549354 , 0.85346831, 0.85239571,\n",
       "       0.85122292, 0.84985899, 0.84919957, 0.84841677, 0.84805064,\n",
       "       0.84712412, 0.84463256, 0.84349674, 0.84226062, 0.83954569,\n",
       "       0.83920211, 0.83626171, 0.83569403, 0.83406107, 0.83153679,\n",
       "       0.83138741, 0.83060346, 0.82870902, 0.82796652, 0.82641365,\n",
       "       0.8254393 , 0.82350598, 0.82195702, 0.82090049, 0.81991063,\n",
       "       0.81668806, 0.81569171, 0.8141735 , 0.81344756, 0.81267639,\n",
       "       0.81165309, 0.80992831, 0.80896692, 0.80676004, 0.80505256,\n",
       "       0.80451472, 0.80287519, 0.80085664, 0.80080019, 0.79862683,\n",
       "       0.79709233, 0.79614366, 0.79384552, 0.79323184, 0.79230114,\n",
       "       0.79141031, 0.79127161, 0.78971862, 0.78817055, 0.7872933 ,\n",
       "       0.78585547, 0.78225244, 0.78143179, 0.78026909, 0.77927257,\n",
       "       0.77874498, 0.77749993, 0.77632638, 0.77525879, 0.77400996,\n",
       "       0.77100957, 0.7705149 , 0.76960016, 0.76766166, 0.76618562,\n",
       "       0.76515477, 0.76356779, 0.76338893, 0.76207219, 0.75875639,\n",
       "       0.75852672, 0.75696757, 0.75623646, 0.75481602, 0.75340164,\n",
       "       0.75151656, 0.75116101, 0.75094126, 0.74956357, 0.74897798,\n",
       "       0.74835754, 0.74735503, 0.74514391, 0.74437202, 0.7418536 ,\n",
       "       0.741532  , 0.74063201, 0.73904813, 0.73838304, 0.73546593,\n",
       "       0.73456877, 0.73335139, 0.73244346, 0.73193184, 0.7300951 ,\n",
       "       0.72861388, 0.72773556, 0.7262301 , 0.72495118, 0.72364908,\n",
       "       0.72338966, 0.7222153 , 0.72003858, 0.71855264, 0.71779353,\n",
       "       0.71705465, 0.7155373 , 0.71449285, 0.71202275, 0.71125686,\n",
       "       0.71048158, 0.70990296, 0.70804997, 0.70753329, 0.70574801,\n",
       "       0.70403015, 0.70333096, 0.70083096, 0.70036431, 0.6985682 ,\n",
       "       0.69807295, 0.69627086, 0.69607406, 0.69507481, 0.69435631,\n",
       "       0.69267312, 0.69227251, 0.69139547, 0.68960586, 0.68644218,\n",
       "       0.68511406, 0.68433237, 0.68180856, 0.68118252, 0.68094068,\n",
       "       0.67877567, 0.67870083, 0.67725419, 0.67544026, 0.67489746,\n",
       "       0.67381804, 0.672491  , 0.67191705, 0.6705282 , 0.6696934 ,\n",
       "       0.66816797, 0.66684681, 0.66620259, 0.66487686, 0.6627368 ,\n",
       "       0.6605697 , 0.65981061, 0.65969521, 0.65769618, 0.6561974 ,\n",
       "       0.65554914, 0.65354876, 0.65267459, 0.65160537, 0.65109794,\n",
       "       0.64937116, 0.64838845, 0.64728761, 0.64668894, 0.64513879,\n",
       "       0.6439309 , 0.64200662, 0.64085004, 0.63959315, 0.63901465,\n",
       "       0.63782342, 0.63648963, 0.63406838, 0.63283775, 0.63226144,\n",
       "       0.63190826, 0.63030038, 0.62856144, 0.62699956, 0.62613707,\n",
       "       0.62556438, 0.62376941, 0.6228269 , 0.62143947, 0.61971097,\n",
       "       0.61814544, 0.61684703, 0.61620311, 0.61601635, 0.61459481,\n",
       "       0.61398043, 0.61133255, 0.61010899, 0.60894617, 0.60815078,\n",
       "       0.60696944, 0.60606915, 0.60510934, 0.60280778, 0.60206215,\n",
       "       0.60175743, 0.6002954 , 0.59932309, 0.59773121, 0.59705972,\n",
       "       0.59585334, 0.59386377, 0.59360606, 0.59341164, 0.59264151,\n",
       "       0.59143315, 0.59071654, 0.58935974, 0.58811975, 0.58690242,\n",
       "       0.58606792, 0.58422078, 0.58398871, 0.58177526, 0.58024154,\n",
       "       0.57968903, 0.57892833, 0.5786764 , 0.57654163, 0.57538026,\n",
       "       0.57420055, 0.57270002, 0.57186041, 0.57038145, 0.56961814,\n",
       "       0.56806668, 0.56570847, 0.56361756, 0.56298984, 0.5617534 ,\n",
       "       0.55989254, 0.55961399, 0.55896869, 0.55819509, 0.55623235,\n",
       "       0.555693  , 0.55404069, 0.55379824, 0.55321644, 0.5522577 ,\n",
       "       0.55030548, 0.54937367, 0.54756313, 0.54690979, 0.54426489,\n",
       "       0.54338848, 0.54223239, 0.54089306, 0.53996346, 0.53960789,\n",
       "       0.53772942, 0.53654881, 0.53532006, 0.53505434, 0.53335485,\n",
       "       0.53109601, 0.53075491, 0.52998043, 0.52869462, 0.52791144,\n",
       "       0.52731079, 0.52630665, 0.52605072, 0.52385121, 0.52230825,\n",
       "       0.52088404, 0.51986065, 0.5194356 , 0.51605607, 0.51490273,\n",
       "       0.51451696, 0.5142755 , 0.51314775, 0.51278488, 0.5098327 ,\n",
       "       0.50852152, 0.50759893, 0.50687217, 0.50586779, 0.50487195,\n",
       "       0.50366667, 0.50308089, 0.501474  , 0.5013569 , 0.49853613,\n",
       "       0.49761288, 0.49617798, 0.49506828, 0.4938365 , 0.49359429,\n",
       "       0.49352955, 0.49245586, 0.49024916, 0.4885683 , 0.4870218 ,\n",
       "       0.48669241, 0.48550911, 0.48428852, 0.48297095, 0.48193879,\n",
       "       0.48121578, 0.48090304, 0.47979219, 0.47873   , 0.47722908,\n",
       "       0.47657496, 0.47603211, 0.47387434, 0.47231738, 0.47045051,\n",
       "       0.46941164, 0.46704624, 0.46651537, 0.46457723, 0.46335951,\n",
       "       0.46286913, 0.46094964, 0.46000193, 0.45925866, 0.45765042,\n",
       "       0.45696205, 0.45658973, 0.45579367, 0.45393062, 0.45272028,\n",
       "       0.45103738, 0.45087589, 0.44947912, 0.44900978, 0.4467725 ,\n",
       "       0.44465337, 0.44418148, 0.44356264, 0.4418934 , 0.440794  ,\n",
       "       0.44057364, 0.43872643, 0.4376187 , 0.4364224 , 0.43544689,\n",
       "       0.43448697, 0.43218787, 0.43175047, 0.4304507 , 0.4277844 ,\n",
       "       0.42666835, 0.42633993, 0.42463438, 0.42414092, 0.4233244 ,\n",
       "       0.41995191, 0.41813309, 0.41664198, 0.41637315, 0.41459562,\n",
       "       0.41227839, 0.41160622, 0.41033759, 0.40975406, 0.40801226,\n",
       "       0.40736542, 0.40586484, 0.40521637, 0.40366913, 0.40298591,\n",
       "       0.40045033, 0.40004791, 0.3991516 , 0.39911269, 0.3967849 ,\n",
       "       0.3957851 , 0.3939596 , 0.39162745, 0.39142256, 0.38829615,\n",
       "       0.38774946, 0.38549079, 0.38422485, 0.38339114, 0.38255449,\n",
       "       0.38119476, 0.378705  , 0.37740672, 0.37476786, 0.37318395,\n",
       "       0.37261905, 0.37189333, 0.37102568, 0.36771732, 0.36544661,\n",
       "       0.36521976, 0.36364351, 0.36141635, 0.36083779, 0.35915782,\n",
       "       0.35889502, 0.35575324, 0.35528302, 0.35305133, 0.35031587,\n",
       "       0.34958204, 0.3491532 , 0.34496319, 0.34412139, 0.34257608,\n",
       "       0.34073685, 0.33909409, 0.33872208, 0.33533552, 0.33449744,\n",
       "       0.33233348, 0.33176451, 0.32930784, 0.32663443, 0.32377153,\n",
       "       0.31997958, 0.31937653, 0.31507786, 0.31195005, 0.30613164,\n",
       "       0.30522866, 0.29800875, 0.29575778, 0.2898915 , 0.28502228,\n",
       "       0.2832437 , 0.27456485, 0.24835659, 0.18005251, 0.14657508])"
      ]
     },
     "execution_count": 285,
     "metadata": {},
     "output_type": "execute_result"
    }
   ],
   "source": [
    "ev, v = fa.get_eigenvalues()\n",
    "ev"
   ]
  },
  {
   "cell_type": "code",
   "execution_count": 286,
   "id": "c7822868",
   "metadata": {},
   "outputs": [
    {
     "data": {
      "image/png": "[encoded data removed]",
      "text/plain": [
       "<Figure size 432x288 with 1 Axes>"
      ]
     },
     "metadata": {
      "needs_background": "light"
     },
     "output_type": "display_data"
    }
   ],
   "source": [
    "plt.scatter(range(1,new_df.shape[1]+1),ev)\n",
    "plt.plot(range(1,new_df.shape[1]+1),ev)\n",
    "plt.title('Scree Plot')\n",
    "plt.xlabel('Factors')\n",
    "plt.ylabel('Eigenvalue')\n",
    "plt.grid()\n",
    "plt.show()"
   ]
  },
  {
   "cell_type": "code",
   "execution_count": 287,
   "id": "1095dac7",
   "metadata": {},
   "outputs": [
    {
     "data": {
      "text/plain": [
       "360"
      ]
     },
     "execution_count": 287,
     "metadata": {},
     "output_type": "execute_result"
    }
   ],
   "source": [
    "(ev>1).sum() #360 eigenvalues greater than 1"
   ]
  },
  {
   "cell_type": "code",
   "execution_count": 288,
   "id": "0d5dc45d",
   "metadata": {},
   "outputs": [
    {
     "data": {
      "text/plain": [
       "895.0000000000001"
      ]
     },
     "execution_count": 288,
     "metadata": {},
     "output_type": "execute_result"
    }
   ],
   "source": [
    "ev.sum()"
   ]
  },
  {
   "cell_type": "code",
   "execution_count": 290,
   "id": "ba7896d3",
   "metadata": {},
   "outputs": [
    {
     "data": {
      "text/plain": [
       "0.04560614696433248"
      ]
     },
     "execution_count": 290,
     "metadata": {},
     "output_type": "execute_result"
    }
   ],
   "source": [
    "ev[:8].sum()/ev.sum()"
   ]
  },
  {
   "cell_type": "code",
   "execution_count": 201,
   "id": "e1747db5",
   "metadata": {},
   "outputs": [],
   "source": [
    "no_of_factors = 8\n",
    "transformer = FactorAnalyzer(n_factors=no_of_factors, rotation='varimax')"
   ]
  },
  {
   "cell_type": "code",
   "execution_count": 202,
   "id": "365237ce",
   "metadata": {},
   "outputs": [],
   "source": [
    "transformed = transformer.fit(new_df)"
   ]
  },
  {
   "cell_type": "code",
   "execution_count": 203,
   "id": "0d93787e",
   "metadata": {},
   "outputs": [
    {
     "data": {
      "text/plain": [
       "array([[-0.02455928,  0.00049708,  0.03216271, -0.01185687,  0.09192564,\n",
       "         0.0343997 ],\n",
       "       [-0.07207899, -0.07864204,  0.08267233,  0.19925049, -0.08756001,\n",
       "        -0.06760499],\n",
       "       [ 0.14656057,  0.02205164,  0.07342217,  0.02416411, -0.02469216,\n",
       "        -0.00252811],\n",
       "       ...,\n",
       "       [-0.05259007,  0.02255288, -0.03245162,  0.01686066,  0.02796292,\n",
       "         0.097685  ],\n",
       "       [-0.03217637, -0.03741334,  0.07920892, -0.10674055,  0.01883761,\n",
       "         0.06681588],\n",
       "       [-0.01422542,  0.04151254,  0.0013826 , -0.02832277, -0.00071616,\n",
       "         0.02992053]])"
      ]
     },
     "execution_count": 203,
     "metadata": {},
     "output_type": "execute_result"
    }
   ],
   "source": [
    "transformed.loadings_"
   ]
  },
  {
   "cell_type": "code",
   "execution_count": 204,
   "id": "74d78dcb",
   "metadata": {},
   "outputs": [
    {
     "name": "stdout",
     "output_type": "stream",
     "text": [
      "                  0         1         2         3         4         5\n",
      "exist     -0.024559  0.000497  0.032163 -0.011857  0.091926  0.034400\n",
      "treat     -0.072079 -0.078642  0.082672  0.199250 -0.087560 -0.067605\n",
      "tv         0.146561  0.022052  0.073422  0.024164 -0.024692 -0.002528\n",
      "recognit   0.043868  0.025570  0.020328  0.001418  0.003603  0.039544\n",
      "surviv    -0.038448 -0.050254 -0.008556  0.152984 -0.041401 -0.056822\n",
      "...             ...       ...       ...       ...       ...       ...\n",
      "often      0.046506 -0.009558 -0.034734  0.049665 -0.003299 -0.004278\n",
      "influenti  0.032639  0.103073 -0.029335 -0.017002 -0.023892  0.011766\n",
      "behaviour -0.052590  0.022553 -0.032452  0.016861  0.027963  0.097685\n",
      "transfer  -0.032176 -0.037413  0.079209 -0.106741  0.018838  0.066816\n",
      "assist    -0.014225  0.041513  0.001383 -0.028323 -0.000716  0.029921\n",
      "\n",
      "[895 rows x 6 columns]\n"
     ]
    }
   ],
   "source": [
    "print(pd.DataFrame(transformed.loadings_,index=new_df.columns))"
   ]
  },
  {
   "cell_type": "code",
   "execution_count": 205,
   "id": "1548bbeb",
   "metadata": {},
   "outputs": [
    {
     "name": "stdout",
     "output_type": "stream",
     "text": [
      "                         0         1         2         3         4         5\n",
      "Variance          6.059582  4.836852  4.833132  4.735508  4.088374  3.946404\n",
      "Proportional Var  0.006770  0.005404  0.005400  0.005291  0.004568  0.004409\n",
      "Cumulative Var    0.006770  0.012175  0.017575  0.022866  0.027434  0.031843\n"
     ]
    }
   ],
   "source": [
    "print(pd.DataFrame(transformed.get_factor_variance(),index=['Variance','Proportional Var','Cumulative Var']))"
   ]
  },
  {
   "cell_type": "code",
   "execution_count": 207,
   "id": "fba1c8c8",
   "metadata": {},
   "outputs": [
    {
     "name": "stdout",
     "output_type": "stream",
     "text": [
      "           Communalities\n",
      "exist           0.011412\n",
      "treat           0.070153\n",
      "tv              0.028557\n",
      "recognit        0.004570\n",
      "surviv          0.032424\n",
      "...                  ...\n",
      "often           0.005956\n",
      "influenti       0.013548\n",
      "behaviour       0.014936\n",
      "transfer        0.024922\n",
      "assist          0.003625\n",
      "\n",
      "[895 rows x 1 columns]\n"
     ]
    }
   ],
   "source": [
    "print(pd.DataFrame(transformed.get_communalities(),index=new_df.columns,columns=['Communalities']))"
   ]
  },
  {
   "cell_type": "code",
   "execution_count": 208,
   "id": "6a34a854",
   "metadata": {},
   "outputs": [],
   "source": [
    "corr_df = pd.DataFrame(transformed.loadings_,index=new_df.columns)"
   ]
  },
  {
   "cell_type": "code",
   "execution_count": 213,
   "id": "64de6d67",
   "metadata": {},
   "outputs": [
    {
     "data": {
      "text/plain": [
       "array([[194,  42, 567, 114, 464, 289],\n",
       "       [842, 775, 143, 612, 262, 756],\n",
       "       [367, 439, 719, 824, 713, 121],\n",
       "       [200, 150, 552, 857,  46, 306],\n",
       "       [843, 578, 215, 652, 635, 680]])"
      ]
     },
     "execution_count": 213,
     "metadata": {},
     "output_type": "execute_result"
    }
   ],
   "source": [
    "import numpy as np\n",
    "def top_k(x,k):\n",
    "    ind=np.argpartition(x,-1*k)[-1*k:]\n",
    "    return ind[np.argsort(x[ind])]\n",
    "\n",
    "np.apply_along_axis(lambda x: top_k(x,5),0,corr_df.values)"
   ]
  },
  {
   "cell_type": "code",
   "execution_count": 234,
   "id": "b343c3a1",
   "metadata": {},
   "outputs": [
    {
     "name": "stdout",
     "output_type": "stream",
     "text": [
      "Topic 0\n"
     ]
    },
    {
     "data": {
      "text/plain": [
       "public     0.453821\n",
       "cultur     0.450266\n",
       "audienc    0.397886\n",
       "exhibit    0.368874\n",
       "histori    0.335254\n",
       "museum     0.315717\n",
       "engag      0.308273\n",
       "art        0.284253\n",
       "media      0.273596\n",
       "heritag    0.271058\n",
       "Name: 0, dtype: float64"
      ]
     },
     "execution_count": 234,
     "metadata": {},
     "output_type": "execute_result"
    }
   ],
   "source": [
    "print(\"Topic 0\")\n",
    "corr_df.nlargest(10, [0]).iloc[:,0]"
   ]
  },
  {
   "cell_type": "code",
   "execution_count": 235,
   "id": "f845e5ac",
   "metadata": {},
   "outputs": [
    {
     "name": "stdout",
     "output_type": "stream",
     "text": [
      "Topic 1\n"
     ]
    },
    {
     "data": {
      "text/plain": [
       "polici      0.467934\n",
       "govern      0.378108\n",
       "debat       0.314175\n",
       "law         0.288838\n",
       "reform      0.277002\n",
       "commiss     0.273118\n",
       "committe    0.270456\n",
       "legisl      0.259367\n",
       "influenc    0.243249\n",
       "right       0.237979\n",
       "Name: 1, dtype: float64"
      ]
     },
     "execution_count": 235,
     "metadata": {},
     "output_type": "execute_result"
    }
   ],
   "source": [
    "print(\"Topic 1\")\n",
    "corr_df.nlargest(10, [1]).iloc[:,1]"
   ]
  },
  {
   "cell_type": "code",
   "execution_count": 239,
   "id": "5cbd8e4f",
   "metadata": {},
   "outputs": [
    {
     "name": "stdout",
     "output_type": "stream",
     "text": [
      "Topic 2\n"
     ]
    },
    {
     "data": {
      "text/plain": [
       "compani         0.498236\n",
       "spinout         0.375460\n",
       "ltd             0.370908\n",
       "technolog       0.370638\n",
       "product         0.309425\n",
       "sale            0.299658\n",
       "wa              0.291788\n",
       "2008            0.286118\n",
       "commercialis    0.276020\n",
       "manufactur      0.272305\n",
       "Name: 2, dtype: float64"
      ]
     },
     "execution_count": 239,
     "metadata": {},
     "output_type": "execute_result"
    }
   ],
   "source": [
    "print(\"Topic 2\")\n",
    "corr_df.nlargest(10, [2]).iloc[:,2]"
   ]
  },
  {
   "cell_type": "code",
   "execution_count": 236,
   "id": "6a824c0f",
   "metadata": {},
   "outputs": [
    {
     "name": "stdout",
     "output_type": "stream",
     "text": [
      "Topic 3\n"
     ]
    },
    {
     "data": {
      "text/plain": [
       "patient      0.468466\n",
       "treatment    0.414819\n",
       "clinic       0.403395\n",
       "guidelin     0.360412\n",
       "trial        0.320907\n",
       "diseas       0.294947\n",
       "nice         0.283887\n",
       "nh           0.277304\n",
       "health       0.259214\n",
       "therapi      0.257502\n",
       "Name: 3, dtype: float64"
      ]
     },
     "execution_count": 236,
     "metadata": {},
     "output_type": "execute_result"
    }
   ],
   "source": [
    "print(\"Topic 3\")\n",
    "corr_df.nlargest(10, [3]).iloc[:,3]"
   ]
  },
  {
   "cell_type": "code",
   "execution_count": 237,
   "id": "0641ab91",
   "metadata": {},
   "outputs": [
    {
     "name": "stdout",
     "output_type": "stream",
     "text": [
      "Topic 4\n"
     ]
    },
    {
     "data": {
      "text/plain": [
       "environment    0.277976\n",
       "model          0.268259\n",
       "use            0.244535\n",
       "climat         0.237116\n",
       "effici         0.235526\n",
       "emiss          0.235261\n",
       "data           0.230217\n",
       "environ        0.226646\n",
       "industri       0.226108\n",
       "system         0.222382\n",
       "Name: 4, dtype: float64"
      ]
     },
     "execution_count": 237,
     "metadata": {},
     "output_type": "execute_result"
    }
   ],
   "source": [
    "print(\"Topic 4\")\n",
    "corr_df.nlargest(10, [4]).iloc[:,4]"
   ]
  },
  {
   "cell_type": "code",
   "execution_count": 238,
   "id": "9257b3ab",
   "metadata": {},
   "outputs": [
    {
     "name": "stdout",
     "output_type": "stream",
     "text": [
      "Topic 5\n"
     ]
    },
    {
     "data": {
      "text/plain": [
       "educ         -0.149154\n",
       "school       -0.081640\n",
       "learn        -0.046544\n",
       "practic      -0.022306\n",
       "teacher      -0.115690\n",
       "train        -0.025424\n",
       "servic        0.023753\n",
       "profession   -0.065223\n",
       "teach        -0.090104\n",
       "research      0.039538\n",
       "Name: 4, dtype: float64"
      ]
     },
     "execution_count": 238,
     "metadata": {},
     "output_type": "execute_result"
    }
   ],
   "source": [
    "print(\"Topic 5\")\n",
    "corr_df.nlargest(10, [5]).iloc[:,4]"
   ]
  },
  {
   "cell_type": "code",
   "execution_count": null,
   "id": "900df018",
   "metadata": {},
   "outputs": [],
   "source": []
  }
 ],
 "metadata": {
  "kernelspec": {
   "display_name": "Python 3",
   "language": "python",
   "name": "python3"
  },
  "language_info": {
   "codemirror_mode": {
    "name": "ipython",
    "version": 3
   },
   "file_extension": ".py",
   "mimetype": "text/x-python",
   "name": "python",
   "nbconvert_exporter": "python",
   "pygments_lexer": "ipython3",
   "version": "3.8.2"
  }
 },
 "nbformat": 4,
 "nbformat_minor": 5
}
