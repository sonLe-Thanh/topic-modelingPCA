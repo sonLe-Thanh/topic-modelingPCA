{
 "cells": [
  {
   "cell_type": "code",
   "execution_count": 3,
   "id": "260e2982-7cf5-4213-83c9-7552ec1d372d",
   "metadata": {},
   "outputs": [],
   "source": [
    "import numpy as np\n",
    "import pandas as pd\n",
    "from IPython.display import display\n",
    "from tqdm import tqdm\n",
    "from collections import Counter\n",
    "import ast\n",
    "\n",
    "import matplotlib.pyplot as plt\n",
    "import matplotlib.mlab as mlab\n",
    "import seaborn as sb\n",
    "\n",
    "from sklearn.feature_extraction.text import CountVectorizer"
   ]
  },
  {
   "cell_type": "code",
   "execution_count": 4,
   "id": "e71c6063-ed02-4c63-9bdf-18b7f98e2eb3",
   "metadata": {
    "tags": []
   },
   "outputs": [
    {
     "data": {
      "text/html": [
       "<div>\n",
       "<style scoped>\n",
       "    .dataframe tbody tr th:only-of-type {\n",
       "        vertical-align: middle;\n",
       "    }\n",
       "\n",
       "    .dataframe tbody tr th {\n",
       "        vertical-align: top;\n",
       "    }\n",
       "\n",
       "    .dataframe thead th {\n",
       "        text-align: right;\n",
       "    }\n",
       "</style>\n",
       "<table border=\"1\" class=\"dataframe\">\n",
       "  <thead>\n",
       "    <tr style=\"text-align: right;\">\n",
       "      <th></th>\n",
       "      <th>Unnamed: 0</th>\n",
       "      <th>id</th>\n",
       "      <th>title</th>\n",
       "      <th>publication</th>\n",
       "      <th>author</th>\n",
       "      <th>date</th>\n",
       "      <th>year</th>\n",
       "      <th>month</th>\n",
       "      <th>url</th>\n",
       "      <th>content</th>\n",
       "    </tr>\n",
       "  </thead>\n",
       "  <tbody>\n",
       "    <tr>\n",
       "      <th>0</th>\n",
       "      <td>0</td>\n",
       "      <td>17283</td>\n",
       "      <td>House Republicans Fret About Winning Their Hea...</td>\n",
       "      <td>New York Times</td>\n",
       "      <td>Carl Hulse</td>\n",
       "      <td>2016-12-31</td>\n",
       "      <td>2016.0</td>\n",
       "      <td>12.0</td>\n",
       "      <td>NaN</td>\n",
       "      <td>WASHINGTON  —   Congressional Republicans have...</td>\n",
       "    </tr>\n",
       "    <tr>\n",
       "      <th>1</th>\n",
       "      <td>1</td>\n",
       "      <td>17284</td>\n",
       "      <td>Rift Between Officers and Residents as Killing...</td>\n",
       "      <td>New York Times</td>\n",
       "      <td>Benjamin Mueller and Al Baker</td>\n",
       "      <td>2017-06-19</td>\n",
       "      <td>2017.0</td>\n",
       "      <td>6.0</td>\n",
       "      <td>NaN</td>\n",
       "      <td>After the bullet shells get counted, the blood...</td>\n",
       "    </tr>\n",
       "    <tr>\n",
       "      <th>2</th>\n",
       "      <td>2</td>\n",
       "      <td>17285</td>\n",
       "      <td>Tyrus Wong, ‘Bambi’ Artist Thwarted by Racial ...</td>\n",
       "      <td>New York Times</td>\n",
       "      <td>Margalit Fox</td>\n",
       "      <td>2017-01-06</td>\n",
       "      <td>2017.0</td>\n",
       "      <td>1.0</td>\n",
       "      <td>NaN</td>\n",
       "      <td>When Walt Disney’s “Bambi” opened in 1942, cri...</td>\n",
       "    </tr>\n",
       "    <tr>\n",
       "      <th>3</th>\n",
       "      <td>3</td>\n",
       "      <td>17286</td>\n",
       "      <td>Among Deaths in 2016, a Heavy Toll in Pop Musi...</td>\n",
       "      <td>New York Times</td>\n",
       "      <td>William McDonald</td>\n",
       "      <td>2017-04-10</td>\n",
       "      <td>2017.0</td>\n",
       "      <td>4.0</td>\n",
       "      <td>NaN</td>\n",
       "      <td>Death may be the great equalizer, but it isn’t...</td>\n",
       "    </tr>\n",
       "    <tr>\n",
       "      <th>4</th>\n",
       "      <td>4</td>\n",
       "      <td>17287</td>\n",
       "      <td>Kim Jong-un Says North Korea Is Preparing to T...</td>\n",
       "      <td>New York Times</td>\n",
       "      <td>Choe Sang-Hun</td>\n",
       "      <td>2017-01-02</td>\n",
       "      <td>2017.0</td>\n",
       "      <td>1.0</td>\n",
       "      <td>NaN</td>\n",
       "      <td>SEOUL, South Korea  —   North Korea’s leader, ...</td>\n",
       "    </tr>\n",
       "  </tbody>\n",
       "</table>\n",
       "</div>"
      ],
      "text/plain": [
       "   Unnamed: 0     id                                              title  \\\n",
       "0           0  17283  House Republicans Fret About Winning Their Hea...   \n",
       "1           1  17284  Rift Between Officers and Residents as Killing...   \n",
       "2           2  17285  Tyrus Wong, ‘Bambi’ Artist Thwarted by Racial ...   \n",
       "3           3  17286  Among Deaths in 2016, a Heavy Toll in Pop Musi...   \n",
       "4           4  17287  Kim Jong-un Says North Korea Is Preparing to T...   \n",
       "\n",
       "      publication                         author        date    year  month  \\\n",
       "0  New York Times                     Carl Hulse  2016-12-31  2016.0   12.0   \n",
       "1  New York Times  Benjamin Mueller and Al Baker  2017-06-19  2017.0    6.0   \n",
       "2  New York Times                   Margalit Fox  2017-01-06  2017.0    1.0   \n",
       "3  New York Times               William McDonald  2017-04-10  2017.0    4.0   \n",
       "4  New York Times                  Choe Sang-Hun  2017-01-02  2017.0    1.0   \n",
       "\n",
       "   url                                            content  \n",
       "0  NaN  WASHINGTON  —   Congressional Republicans have...  \n",
       "1  NaN  After the bullet shells get counted, the blood...  \n",
       "2  NaN  When Walt Disney’s “Bambi” opened in 1942, cri...  \n",
       "3  NaN  Death may be the great equalizer, but it isn’t...  \n",
       "4  NaN  SEOUL, South Korea  —   North Korea’s leader, ...  "
      ]
     },
     "execution_count": 4,
     "metadata": {},
     "output_type": "execute_result"
    }
   ],
   "source": [
    "import pandas as pd\n",
    "\n",
    "df = pd.read_csv('data/articles1.csv')\n",
    "\n",
    "df.head()"
   ]
  },
  {
   "cell_type": "code",
   "execution_count": 5,
   "id": "b3fac421-6c02-42ec-835c-2fd16b63ecce",
   "metadata": {},
   "outputs": [
    {
     "name": "stdout",
     "output_type": "stream",
     "text": [
      "<class 'pandas.core.frame.DataFrame'>\n",
      "RangeIndex: 50000 entries, 0 to 49999\n",
      "Data columns (total 10 columns):\n",
      " #   Column       Non-Null Count  Dtype  \n",
      "---  ------       --------------  -----  \n",
      " 0   Unnamed: 0   50000 non-null  int64  \n",
      " 1   id           50000 non-null  int64  \n",
      " 2   title        50000 non-null  object \n",
      " 3   publication  50000 non-null  object \n",
      " 4   author       43694 non-null  object \n",
      " 5   date         50000 non-null  object \n",
      " 6   year         50000 non-null  float64\n",
      " 7   month        50000 non-null  float64\n",
      " 8   url          0 non-null      float64\n",
      " 9   content      50000 non-null  object \n",
      "dtypes: float64(3), int64(2), object(5)\n",
      "memory usage: 3.8+ MB\n"
     ]
    }
   ],
   "source": [
    "df.info()"
   ]
  },
  {
   "cell_type": "code",
   "execution_count": 6,
   "id": "983d7690-c79f-48ae-b3ef-bf5e825aa60c",
   "metadata": {},
   "outputs": [],
   "source": [
    "# corpus = df['title']+df['content']\n",
    "corpus = df['content'].copy()"
   ]
  },
  {
   "cell_type": "code",
   "execution_count": 7,
   "id": "0b3786cd-aa1e-4d63-985f-acf13f828681",
   "metadata": {},
   "outputs": [
    {
     "data": {
      "text/plain": [
       "0    WASHINGTON  —   Congressional Republicans have...\n",
       "1    After the bullet shells get counted, the blood...\n",
       "2    When Walt Disney’s “Bambi” opened in 1942, cri...\n",
       "3    Death may be the great equalizer, but it isn’t...\n",
       "4    SEOUL, South Korea  —   North Korea’s leader, ...\n",
       "Name: content, dtype: object"
      ]
     },
     "execution_count": 7,
     "metadata": {},
     "output_type": "execute_result"
    }
   ],
   "source": [
    "corpus.head()"
   ]
  },
  {
   "cell_type": "code",
   "execution_count": 8,
   "id": "b3281454-ad8b-456f-a0d5-ae5733dddc41",
   "metadata": {},
   "outputs": [
    {
     "data": {
      "text/plain": [
       "(50000,)"
      ]
     },
     "execution_count": 8,
     "metadata": {},
     "output_type": "execute_result"
    }
   ],
   "source": [
    "corpus.shape"
   ]
  },
  {
   "cell_type": "code",
   "execution_count": 9,
   "id": "b292d724-3a28-4d52-9eb7-de8b73e0d921",
   "metadata": {},
   "outputs": [],
   "source": [
    "def get_top_n_words(n_top_words, count_vectorizer, text_data):\n",
    "    '''\n",
    "    returns a tuple of the top n words in a sample and their \n",
    "    accompanying counts, given a CountVectorizer object and text sample\n",
    "    '''\n",
    "    vectorized_headlines = count_vectorizer.fit_transform(text_data.values)\n",
    "    vectorized_total = np.sum(vectorized_headlines, axis=0)\n",
    "    word_indices = np.flip(np.argsort(vectorized_total)[0,:], 1)\n",
    "    word_values = np.flip(np.sort(vectorized_total)[0,:],1)\n",
    "    \n",
    "    word_vectors = np.zeros((n_top_words, vectorized_headlines.shape[1]))\n",
    "    for i in range(n_top_words):\n",
    "        word_vectors[i,word_indices[0,i]] = 1\n",
    "\n",
    "    words = [word[0].encode('ascii').decode('utf-8') for \n",
    "             word in count_vectorizer.inverse_transform(word_vectors)]\n",
    "\n",
    "    return (words, word_values[0,:n_top_words].tolist()[0])"
   ]
  },
  {
   "cell_type": "code",
   "execution_count": 10,
   "id": "2f353fb1-45f5-45bb-914e-555616b3db51",
   "metadata": {},
   "outputs": [
    {
     "data": {
      "image/png": "[encoded data removed]",
      "text/plain": [
       "<Figure size 1152x576 with 1 Axes>"
      ]
     },
     "metadata": {
      "needs_background": "light"
     },
     "output_type": "display_data"
    }
   ],
   "source": [
    "count_vectorizer = CountVectorizer(stop_words='english')\n",
    "words, word_values = get_top_n_words(n_top_words=15,\n",
    "                                     count_vectorizer=count_vectorizer, \n",
    "                                     text_data=corpus)\n",
    "\n",
    "fig, ax = plt.subplots(figsize=(16,8))\n",
    "ax.bar(range(len(words)), word_values);\n",
    "ax.set_xticks(range(len(words)));\n",
    "ax.set_xticklabels(words, rotation='vertical');\n",
    "ax.set_title('Top words in headlines dataset (excluding stop words)');\n",
    "ax.set_xlabel('Word');\n",
    "ax.set_ylabel('Number of occurences');\n",
    "plt.show()"
   ]
  },
  {
   "cell_type": "code",
   "execution_count": 11,
   "id": "20877150-0a3b-4447-acd8-19f61fc330f4",
   "metadata": {},
   "outputs": [],
   "source": [
    "from sklearn.feature_extraction.text import TfidfVectorizer\n",
    "\n",
    "vectorizer = TfidfVectorizer(\n",
    "                             stop_words='english', \n",
    "                             use_idf=True, \n",
    "                             smooth_idf=True)"
   ]
  },
  {
   "cell_type": "code",
   "execution_count": 12,
   "id": "96f317fe-27a8-40d3-a92e-3b02316ca8ba",
   "metadata": {},
   "outputs": [],
   "source": [
    "X = vectorizer.fit_transform(corpus)"
   ]
  },
  {
   "cell_type": "code",
   "execution_count": 13,
   "id": "0d65c2c9-ca28-4487-be39-32d32e444dab",
   "metadata": {},
   "outputs": [
    {
     "name": "stdout",
     "output_type": "stream",
     "text": [
      "  (0, 154247)\t0.01727864041047229\n",
      "  (0, 10804)\t0.03762808777244603\n",
      "  (0, 50758)\t0.029903712448266742\n",
      "  (0, 73259)\t0.05260414236471058\n",
      "  (0, 47267)\t0.04195126306559638\n",
      "  (0, 33964)\t0.03168286462043743\n",
      "  (0, 127313)\t0.04442432132456251\n",
      "  (0, 23828)\t0.031358575295090015\n",
      "  (0, 119754)\t0.04999619802242972\n",
      "  (0, 162613)\t0.02663399496318598\n",
      "  (0, 137528)\t0.02676948243717079\n",
      "  (0, 120214)\t0.01693161262407355\n",
      "  (0, 6395)\t0.0321026454087567\n",
      "  (0, 120270)\t0.025990225284860693\n",
      "  (0, 33480)\t0.03385324725196971\n",
      "  (0, 88646)\t0.03868863376352293\n",
      "  (0, 127983)\t0.034625210610475785\n",
      "  (0, 136767)\t0.03822400785390937\n",
      "  (0, 119752)\t0.03707733867133118\n",
      "  (0, 56052)\t0.04001077346778683\n",
      "  (0, 52553)\t0.026404631313344785\n",
      "  (0, 87985)\t0.045462745371474725\n",
      "  (0, 131305)\t0.030538173829315892\n",
      "  (0, 76918)\t0.02039115023325946\n",
      "  (0, 73730)\t0.020095584876244195\n",
      "  :\t:\n",
      "  (0, 45171)\t0.026314543971942432\n",
      "  (0, 19615)\t0.03355659713245878\n",
      "  (0, 143126)\t0.028172255916753045\n",
      "  (0, 14095)\t0.056070184382046556\n",
      "  (0, 29113)\t0.029018175504288223\n",
      "  (0, 146944)\t0.06383218928869208\n",
      "  (0, 22910)\t0.16755594706693616\n",
      "  (0, 52282)\t0.10479693339134628\n",
      "  (0, 40763)\t0.02835038945479078\n",
      "  (0, 90551)\t0.023837363484347406\n",
      "  (0, 30642)\t0.05858490261761544\n",
      "  (0, 156192)\t0.11532791512874034\n",
      "  (0, 74140)\t0.033804149604649995\n",
      "  (0, 166780)\t0.021952332872407287\n",
      "  (0, 6132)\t0.24310942605597996\n",
      "  (0, 108860)\t0.08652821555669421\n",
      "  (0, 87459)\t0.06141838217748695\n",
      "  (0, 27110)\t0.17399812047582616\n",
      "  (0, 67868)\t0.241885520468475\n",
      "  (0, 33512)\t0.02054508189642449\n",
      "  (0, 54256)\t0.02559324300801144\n",
      "  (0, 105792)\t0.02266729421587856\n",
      "  (0, 127563)\t0.3221793104521856\n",
      "  (0, 34552)\t0.08039074274790156\n",
      "  (0, 164662)\t0.017461889978376097\n"
     ]
    }
   ],
   "source": [
    "print(X[0])"
   ]
  },
  {
   "cell_type": "code",
   "execution_count": 15,
   "id": "2d578022-6346-4532-8a81-58585449bdcd",
   "metadata": {},
   "outputs": [
    {
     "data": {
      "text/plain": [
       "(50000, 173899)"
      ]
     },
     "execution_count": 15,
     "metadata": {},
     "output_type": "execute_result"
    }
   ],
   "source": [
    "X.shape"
   ]
  },
  {
   "cell_type": "code",
   "execution_count": 16,
   "id": "d4703785-4b8a-47fe-8ff7-68aada1f3839",
   "metadata": {},
   "outputs": [],
   "source": [
    "from sklearn.decomposition import TruncatedSVD\n",
    "\n",
    "lsa = TruncatedSVD(n_components=20, n_iter=10)"
   ]
  },
  {
   "cell_type": "code",
   "execution_count": 17,
   "id": "8b803800-9954-41d9-bcc3-ebecea1de436",
   "metadata": {},
   "outputs": [],
   "source": [
    "US = lsa.fit_transform(X)"
   ]
  },
  {
   "cell_type": "code",
   "execution_count": 18,
   "id": "85e8250a-1727-4582-b508-3f1851e5d00a",
   "metadata": {},
   "outputs": [
    {
     "data": {
      "text/plain": [
       "array([9.11479434e-03, 3.55623489e-02, 1.98707486e-05, ...,\n",
       "       2.26816057e-06, 2.26816057e-06, 2.26816057e-06])"
      ]
     },
     "execution_count": 18,
     "metadata": {},
     "output_type": "execute_result"
    }
   ],
   "source": [
    "lsa.components_[0]"
   ]
  },
  {
   "cell_type": "code",
   "execution_count": 19,
   "id": "57f1aa10-2e32-4110-afe7-0f86d307dda2",
   "metadata": {},
   "outputs": [
    {
     "data": {
      "text/plain": [
       "(173899,)"
      ]
     },
     "execution_count": 19,
     "metadata": {},
     "output_type": "execute_result"
    }
   ],
   "source": [
    "lsa.components_[0].shape"
   ]
  },
  {
   "cell_type": "code",
   "execution_count": 20,
   "id": "27ca35d1-3657-42b9-ae12-097b5d807205",
   "metadata": {},
   "outputs": [
    {
     "data": {
      "text/plain": [
       "(20, 173899)"
      ]
     },
     "execution_count": 20,
     "metadata": {},
     "output_type": "execute_result"
    }
   ],
   "source": [
    "lsa.components_.shape"
   ]
  },
  {
   "cell_type": "code",
   "execution_count": 21,
   "id": "6650405b-39c9-465b-aaf5-4cfe5e7fb84e",
   "metadata": {},
   "outputs": [
    {
     "name": "stdout",
     "output_type": "stream",
     "text": [
      "Topic 0:\n",
      "trump\n",
      "said\n",
      "mr\n",
      "clinton\n",
      "president\n",
      "people\n",
      "obama\n",
      "campaign\n",
      "new\n",
      "donald\n",
      " \n",
      "Topic 1:\n",
      "trump\n",
      "clinton\n",
      "hillary\n",
      "campaign\n",
      "donald\n",
      "cruz\n",
      "republican\n",
      "voters\n",
      "sanders\n",
      "presidential\n",
      " \n",
      "Topic 2:\n",
      "mr\n",
      "trump\n",
      "ms\n",
      "mrs\n",
      "russia\n",
      "said\n",
      "united\n",
      "administration\n",
      "china\n",
      "kushner\n",
      " \n",
      "Topic 3:\n",
      "clinton\n",
      "mr\n",
      "hillary\n",
      "sanders\n",
      "mrs\n",
      "emails\n",
      "foundation\n",
      "email\n",
      "democratic\n",
      "state\n",
      " \n",
      "Topic 4:\n",
      "russia\n",
      "comey\n",
      "russian\n",
      "fbi\n",
      "president\n",
      "intelligence\n",
      "obama\n",
      "investigation\n",
      "syria\n",
      "security\n",
      " \n",
      "Topic 5:\n",
      "police\n",
      "trump\n",
      "officers\n",
      "comey\n",
      "officer\n",
      "fbi\n",
      "investigation\n",
      "breitbart\n",
      "said\n",
      "man\n",
      " \n",
      "Topic 6:\n",
      "comey\n",
      "house\n",
      "fbi\n",
      "health\n",
      "obamacare\n",
      "senate\n",
      "ryan\n",
      "republicans\n",
      "care\n",
      "court\n",
      " \n",
      "Topic 7:\n",
      "cruz\n",
      "percent\n",
      "police\n",
      "rubio\n",
      "court\n",
      "texas\n",
      "state\n",
      "voters\n",
      "republican\n",
      "senate\n",
      " \n",
      "Topic 8:\n",
      "breitbart\n",
      "trump\n",
      "percent\n",
      "immigration\n",
      "news\n",
      "border\n",
      "texas\n",
      "illegal\n",
      "mexico\n",
      "immigrants\n",
      " \n",
      "Topic 9:\n",
      "korea\n",
      "north\n",
      "percent\n",
      "china\n",
      "comey\n",
      "korean\n",
      "trump\n",
      "south\n",
      "missile\n",
      "police\n",
      " \n",
      "Topic 10:\n",
      "cruz\n",
      "breitbart\n",
      "news\n",
      "rubio\n",
      "korea\n",
      "north\n",
      "mr\n",
      "ted\n",
      "comey\n",
      "twitter\n",
      " \n",
      "Topic 11:\n",
      "korea\n",
      "north\n",
      "obama\n",
      "korean\n",
      "china\n",
      "police\n",
      "nuclear\n",
      "court\n",
      "president\n",
      "missile\n",
      " \n",
      "Topic 12:\n",
      "ryan\n",
      "percent\n",
      "breitbart\n",
      "news\n",
      "house\n",
      "obamacare\n",
      "police\n",
      "health\n",
      "republicans\n",
      "care\n",
      " \n",
      "Topic 13:\n",
      "percent\n",
      "obama\n",
      "poll\n",
      "voters\n",
      "black\n",
      "comey\n",
      "police\n",
      "president\n",
      "european\n",
      "eu\n",
      " \n",
      "Topic 14:\n",
      "eu\n",
      "european\n",
      "party\n",
      "migrants\n",
      "britain\n",
      "border\n",
      "immigration\n",
      "europe\n",
      "ryan\n",
      "union\n",
      " \n",
      "Topic 15:\n",
      "women\n",
      "court\n",
      "percent\n",
      "isis\n",
      "supreme\n",
      "trump\n",
      "judge\n",
      "gorsuch\n",
      "abortion\n",
      "north\n",
      " \n",
      "Topic 16:\n",
      "percent\n",
      "comey\n",
      "think\n",
      "border\n",
      "said\n",
      "immigration\n",
      "people\n",
      "going\n",
      "fbi\n",
      "rubio\n",
      " \n",
      "Topic 17:\n",
      "israel\n",
      "comey\n",
      "cruz\n",
      "fbi\n",
      "israeli\n",
      "jerusalem\n",
      "netanyahu\n",
      "palestinian\n",
      "jewish\n",
      "islamic\n",
      " \n",
      "Topic 18:\n",
      "gun\n",
      "court\n",
      "awrhawkins\n",
      "isis\n",
      "comey\n",
      "amendment\n",
      "guns\n",
      "apple\n",
      "company\n",
      "china\n",
      " \n",
      "Topic 19:\n",
      "milo\n",
      "comey\n",
      "sanders\n",
      "students\n",
      "black\n",
      "yiannopoulos\n",
      "isis\n",
      "fbi\n",
      "twitter\n",
      "speech\n",
      " \n"
     ]
    }
   ],
   "source": [
    "terms = vectorizer.get_feature_names()\n",
    "\n",
    "for i, comp in enumerate(lsa.components_):\n",
    "    termsInComp = zip(terms,comp)\n",
    "    sortedTerms = sorted(termsInComp, key=lambda x: x[1], reverse=True) [:10]\n",
    "    print(f\"Topic {i}:\")\n",
    "    for term in sortedTerms:\n",
    "        print(term[0])\n",
    "    print(\" \")"
   ]
  },
  {
   "cell_type": "code",
   "execution_count": 22,
   "id": "05a30ca2-5076-458b-9e67-4992d0575b68",
   "metadata": {},
   "outputs": [
    {
     "data": {
      "text/plain": [
       "(20,)"
      ]
     },
     "execution_count": 22,
     "metadata": {},
     "output_type": "execute_result"
    }
   ],
   "source": [
    "Sigma = lsa.singular_values_\n",
    "Sigma.shape"
   ]
  },
  {
   "cell_type": "code",
   "execution_count": 23,
   "id": "ce4df5f2-3989-488f-9802-4c6b8b294df2",
   "metadata": {},
   "outputs": [
    {
     "data": {
      "text/plain": [
       "[Text(0.5, 0, 'Topic'),\n",
       " Text(0, 0.5, 'Importance of topic'),\n",
       " Text(0.5, 1.0, 'Topic x Topic matrix')]"
      ]
     },
     "execution_count": 23,
     "metadata": {},
     "output_type": "execute_result"
    },
    {
     "data": {
      "image/png": "[encoded data removed]",
      "text/plain": [
       "<Figure size 432x288 with 1 Axes>"
      ]
     },
     "metadata": {
      "needs_background": "light"
     },
     "output_type": "display_data"
    }
   ],
   "source": [
    "import seaborn as sns\n",
    "\n",
    "figure = sns.barplot(x=list(range(len(Sigma))), y = Sigma, palette=\"rocket\")\n",
    "figure.set(xlabel='Topic', ylabel='Importance of topic', title='Topic x Topic matrix')"
   ]
  },
  {
   "cell_type": "code",
   "execution_count": 24,
   "id": "e0e640e5-05d9-4a13-83e9-720e2202d7d8",
   "metadata": {},
   "outputs": [],
   "source": [
    "figure.figure.savefig(\"importance-of-topic.png\", dpi=500)"
   ]
  },
  {
   "cell_type": "code",
   "execution_count": 25,
   "id": "36ac1cb0-9bf0-4000-be53-25db65761699",
   "metadata": {},
   "outputs": [
    {
     "data": {
      "text/plain": [
       "(50000, 20)"
      ]
     },
     "execution_count": 25,
     "metadata": {},
     "output_type": "execute_result"
    }
   ],
   "source": [
    "U = US / Sigma\n",
    "U.shape"
   ]
  },
  {
   "cell_type": "code",
   "execution_count": 26,
   "id": "132e84f7-6ea0-413f-972e-24c8b78fd98f",
   "metadata": {},
   "outputs": [],
   "source": [
    "search_cache = np.argsort(-U, axis=0) # sort every column\n",
    "\n",
    "def search(n_documents, topic_id):\n",
    "    for rank in range(n_documents):\n",
    "        print(f\"Document {search_cache[rank, topic_id]}\")"
   ]
  },
  {
   "cell_type": "code",
   "execution_count": 27,
   "id": "902e02c7-ca1a-496f-b784-b6731a5a41c7",
   "metadata": {},
   "outputs": [
    {
     "name": "stdout",
     "output_type": "stream",
     "text": [
      "Document 7437\n",
      "Document 38307\n",
      "Document 38319\n"
     ]
    }
   ],
   "source": [
    "search(3, 0)"
   ]
  },
  {
   "cell_type": "code",
   "execution_count": 28,
   "id": "1fcc0c34-3e6d-47f5-8359-90c4774b59e4",
   "metadata": {},
   "outputs": [
    {
     "name": "stdout",
     "output_type": "stream",
     "text": [
      "True\n",
      "True\n",
      "True\n"
     ]
    }
   ],
   "source": [
    "for president in ['Trump', 'Obama', 'Clinton']:\n",
    "    print(president in corpus[7437])"
   ]
  },
  {
   "cell_type": "code",
   "execution_count": 29,
   "id": "42ef3dc3-820a-4fd8-8e93-4e161106210b",
   "metadata": {},
   "outputs": [
    {
     "data": {
      "text/plain": [
       "'Our coverage of the Trump transition continues. Read Friday’s briefing »   Donald J. Trump’s busy day in Washington has come to an end, with smiles all around and the Dow Jones industrial average at a record high, but with protests continuing in the city’s streets. Mr. Trump had intended to stay the night in Washington, but changed his mind and returned Thursday to Trump Tower in Manhattan. Check back with us as we monitor every step of the Trump transition. Steve Bannon, the conservative provocateur and Mr. Trump’s campaign chief, is now a leading candidate to become White House chief of staff, but he’d have to beat out another campaign veteran in the running, Reince Priebus, the chairman of the Republican National Committee, according to two people with knowledge of the discussions. Mr. Bannon, the executive chairman of the conservative website Breitbart News, who took a leave to help manage the final weeks of Mr. Trump’s campaign, is well liked among Mr. Trump’s circle of overlapping advisers, who see him as a favorable influence on the  . But Mr. Priebus is said to be viewed favorably by two people especially close to Mr. Trump: his daughter Ivanka and    Jared Kushner. Mr. Priebus is personally close to both Speaker Paul D. Ryan and Gov. Mike Pence of Indiana, the vice   and he could serve as a helpful bridge to crucial elements of the Republican Party. Corey Lewandowski, Mr. Trump’s first campaign manager, has also been mentioned for chief of staff, despite having been fired by the campaign in June. But Mr. Trump’s children, who feuded publicly with him during the campaign, may resist. Two other names being discussed: Kellyanne Conway, Mr. Trump’s campaign manager, and David Bossie, a veteran conservative operative who became Mr. Trump’s deputy campaign manager. Mr. Trump, a man who once questioned the birthplace of the president, and Mr. Obama, who scorched Mr. Trump as unfit for the Oval Office, met the news media in that esteemed room, and at least for public consumption, let bygones and bygones. Mr. Trump, who often labeled Mr. Obama the worst president in history during the campaign, this time called him a “very good man. ” For a full account, read here.  After the White House, it was on to Capitol Hill to meet with Senator Mitch McConnell of Kentucky, the majority leader, and the speaker of the House, Paul D. Ryan of Wisconsin. Mr. Ryan only reluctantly endorsed Mr. Trump, called his attack on a judge of Mexican heritage the “textbook definition” of racism, and then stopped campaigning for him after a video emerged of the candidate bragging about sexual assault. On Thursday, it was all smiles. “Donald Trump had one of the most impressive victories we have ever seen, and we’re going to turn that victory into progress for the American people,” Mr. Ryan said, “and we are now talking about how we are going to hit the ground running to get this country turned around and make America great again. ” Mr. Trump added: “We had a very detailed meeting, and we’re going to lower taxes, as you know, health care, we’re going to make it affordable. We are going to do a real job on health care. ” Mr. Ryan then showed off the view from his balcony, pointing out the Old Post Office on Pennsylvania Avenue, which Mr. Trump converted into a luxury hotel. Mr. Trump planned to spend Thursday night in Washington, aides announced. No word on whether he’ll be in the new hotel. Michelle Obama welcomed Melania Trump to tea and a tour of the White House residence on Thursday, yet another extraordinary moment as the first lady, who bitterly denounced Mr. Trump and his treatment of women during the presidential campaign, welcomed his wife to her    new home. While Mr. Obama and Mr. Trump held their own   meeting in the Oval Office, the two women stepped out on the Truman Balcony, with sweeping views of the grounds and the Washington Monument, strolled through the State Floor with the resident curator, and even talked about raising children at the White House, said Josh Earnest, the press secretary. When they were finished, Mrs. Obama and Mrs. Trump went to the Oval Office to meet their husbands before the Trumps departed for Capitol Hill, Mr. Earnest said. Tens of thousands of Americans are rushing to sign up for health insurance under the Affordable Care Act after Mr. Trump’s victory as revitalized Republicans vow to repeal the law. Sylvia Mathews Burwell, the secretary of health and human services, reported that more than 100, 000 people selected health plans on Wednesday through HealthCare. gov. It was, she said on Twitter Thursday, the “best day yet” in the current   period, which began Nov. 1 and ends Jan. 31. Even though premiums on the Affordable Care Act exchanges have increased sharply in many parts of the country, federal officials say most consumers can still find coverage for less than $100 a month, after subsidies help defray the cost. Mr. Trump has said he will “completely repeal Obamacare,” but has not said in detail how he would replace it. Instead of the subsidies now available to most people buying insurance through the online marketplace, Mr. Trump wants to allow people to take tax deductions equal to their premiums. “We’ll figure it out on election night. ” That’s what Mr. Trump told his advisers after they pressed him this year to name people to a transition team   that was supposed to give his campaign the appearance of being serious about winning. So if Mr. Trump’s fledgling transition looks a little seat of the pants, well, blame superstition. Mr. Trump said he did not like the idea of planning ahead because he thought it might jinx him. “It’s bad luck,” he told advisers, according to one senior aide who spoke to Mr. Trump about the matter. They love Bernie Sanders, they adore Elizabeth Warren, but as Democrats regroup from Mrs. Clinton’s defeat, the progressive wing of the party is looking to another candidate to lead the Democratic National Committee: Representative Keith Ellison of Minnesota. Donna Brazile replaced Representative Debbie Wasserman Schultz as the committee’s interim leader over the summer after it emerged that the committee was favoring Mrs. Clinton over Mr. Sanders in the Democratic primary contest. Hacked emails released by WikiLeaks also showed that Ms. Brazile had been trying to help Mrs. Clinton. The Progressive Change Campaign Committee said on Thursday that Democrats would continue losing elections unless they aggressively take on corporate power and pointed to Mr. Ellison, who is one of two Muslims in the House and is   of the Congressional Progressive Caucus. “The Democratic establishment had their chance with this election,” said Stephanie Taylor, a   of the Progressive Change Campaign Committee. “It’s time for new leadership of the Democratic Party  —   younger, more diverse, and more ideological  —   that is hungry to do things differently, like leading a movement instead of dragging people to the polls. ” Kris Kobach, the Kansas secretary of state and an ardent opponent of immigration, has been added to Mr. Trump’s transition team, according to local news reports. Mr. Kobach, who provided guidance on immigration policy to Mr. Trump during the campaign, will help the   in the weeks before he takes office, according to The Wichita Eagle. He told the paper he did not expect to get an offer to serve in the Trump administration, but just having him in a formal role in the new Washington could send shudders through the nation’s immigrants. Mr. Kobach has been one of the loudest   voices in the Republican Party for years. He added Mr. Trump’s call for a border wall along the southern tier into the party’s platform over the summer. Mr. Trump and Prime Minister Theresa May of Britain spoke by telephone on Thursday, affirming the “special relationship” between the two countries and agreeing to work closely together, according to a readout of the call provided by the British Embassy. It was a meeting of the “Brexits”: the prime minister ushered into power after Britons voted to exit the European Union and a   who has proudly proclaimed himself “Mr. Brexit”  —   as big a political shock as the British vote. “The prime minister and   Trump agreed that the U. S. . K. relationship was very important and very special, and that building on this would be a priority for them both,” said Laura Palts, an embassy spokeswoman. “  Trump set out his close and personal connections with, and warmth for, the U. K. ” Mr. Trump encouraged Brexit and has been supportive of Mrs. May. This year he clashed with David Cameron, Britain’s former prime minister, and Sadiq Khan, the mayor of London, after they criticized his proposal to bar Muslims from entering the United States. But on Thursday Mr. Trump told Mrs. May that Britain was a “very, very special place for me and for our country” and invited her to pay him a visit as soon as possible. Republican congressional leaders have confirmed what might seem obvious with Mr. Trump’s triumph: Mr. Obama’s   trade agreement with 11 Pacific Rim nations is dead. The Senate majority leader, Senator Mitch McConnell of Kentucky, said   “No” when reporters asked on Wednesday if the pending   Partnership  —   the largest regional trade deal in history  —   would be considered in the lame duck Congress that convenes next week. “I think the   made it pretty clear he was not in favor of the current agreement,” Mr. McConnell said. Mr. Trump has the authority “to negotiate better deals, as I think he would put it,” Mr. McConnell added, but that prospect is unlikely given the difficulty of renegotiating a pact at least seven years in the making among a dozen countries. One of the agreement’s strongest and   Republican advocates, Representative Kevin Brady of Texas, the chairman of the House Ways and Means Committee, echoed the Senate leader. “This important agreement is not ready to be considered during the lame duck and will remain on hold until President Trump decides the path forward,” he said. The office of Representative Nancy Pelosi said on Thursday that Mr. Pence had reached out on a phone call, and she congratulated him on his win. They agreed to meet in the coming weeks to talk more. Ms. Pelosi, the Democratic leader from California, is acquainted with Mr. Pence from his days in the House, where he was something of a rebel before joining the Republican leadership. Rudolph W. Giuliani, the former mayor of New York, expressed interest on Thursday morning in being attorney general, telling CNN, “I certainly have the energy, and there’s probably nobody who knows the Justice Department better than me. ” The next question: Would he actually make good on Mr. Trump’s promise to put Hillary Clinton in jail? Ms. Conway, the Trump campaign manager, left the door open on Wednesday. So did Mr. Giuliani on Fox News when he said Mr. Obama should not pardon Mrs. Clinton for allegedly mishandling classified information on a private server as secretary of state. “I don’t like to see America become a country in which we prosecute people, you know, about politics,” he said. “On the other hand, there are deep and disturbing issues there in which if you don’t investigate them  —   ” The Fox News hosts finished the sentence: “They’re going to continue. ” Legal analysts say that a Trump attorney general would wield the power to open a new investigation, even with a special prosecutor. But he could not guarantee the outcome. Of course, maybe Mr. Giuliani won’t be in the Trump administration. He told The Times’s Matt Apuzzo on Wednesday that he was “not interested in returning to government. ” Instead, he and his friend Michael B. Mukasey, the former attorney general, would advise Mr. Trump on potential nominees. “Between us, we can locate a lot of really good people. ”'"
      ]
     },
     "execution_count": 29,
     "metadata": {},
     "output_type": "execute_result"
    }
   ],
   "source": [
    "corpus[7437]"
   ]
  },
  {
   "cell_type": "code",
   "execution_count": null,
   "id": "8cb7bba6",
   "metadata": {},
   "outputs": [],
   "source": []
  }
 ],
 "metadata": {
  "kernelspec": {
   "display_name": "Python 3",
   "language": "python",
   "name": "python3"
  },
  "language_info": {
   "codemirror_mode": {
    "name": "ipython",
    "version": 3
   },
   "file_extension": ".py",
   "mimetype": "text/x-python",
   "name": "python",
   "nbconvert_exporter": "python",
   "pygments_lexer": "ipython3",
   "version": "3.8.2"
  }
 },
 "nbformat": 4,
 "nbformat_minor": 5
}
